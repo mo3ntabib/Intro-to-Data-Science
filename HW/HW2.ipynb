{
 "cells": [
  {
   "cell_type": "markdown",
   "metadata": {},
   "source": [
    "# Intro to Data Science - Homework 2 - Fall 2024 - Wilmington College\n",
    "## Due Date: February 16, 2024, 11:30 AM (Before the Start of Our Class)\n",
    "\n",
    "Dear Students,\n",
    "\n",
    "Welcome to Homework 2 for the Intro to Data Science course.\n",
    "\n",
    "**Submission Instructions:**\n",
    "Please complete the homework and commit your changes to GitHub. In case you encounter any issues or have questions, feel free to seek assistance from me.\n",
    "\n",
    "**Alternative Submission:**\n",
    "If, for any reason, you are unable to use GitHub, you can submit your work via email.\n",
    "\n",
    "Remember, timely completion of assignments is crucial for your understanding of the course material. If you face any challenges, don't hesitate to reach out."
   ]
  }
 ],
 "metadata": {
  "language_info": {
   "name": "python"
  }
 },
 "nbformat": 4,
 "nbformat_minor": 2
}
