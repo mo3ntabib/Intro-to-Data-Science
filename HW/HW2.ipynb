{
 "cells": [
  {
   "cell_type": "markdown",
   "metadata": {},
   "source": [
    "# Intro to Data Science - Homework 2 - Fall 2024 - Wilmington College\n",
    "## Due Date: February 16, 2024, 11:30 AM (Before the Start of Our Class)\n",
    "\n",
    "Dear Students,\n",
    "\n",
    "Welcome to Homework 2 for the Intro to Data Science course.\n",
    "\n",
    "**Submission Instructions:**\n",
    "Please complete the homework and commit your changes to GitHub. In case you encounter any issues or have questions, feel free to seek assistance from me.\n",
    "\n",
    "**Alternative Submission:**\n",
    "If, for any reason, you are unable to use GitHub, you can submit your work via email.\n",
    "\n",
    "Remember, timely completion of assignments is crucial for your understanding of the course material. If you face any challenges, don't hesitate to reach out."
   ]
  },
  {
   "cell_type": "markdown",
   "metadata": {},
   "source": [
    "1. **Array Operations:**\n",
    "   Consider the following two arrays:\n",
    "   ```python\n",
    "   array1 = np.array([1, 2, 3, 4, 5])\n",
    "   array2 = np.array([6, 7, 8, 9, 10])\n",
    "   ```\n",
    "   - a. Perform element-wise addition between `array1` and `array2`.\n",
    "   - b. Calculate the square root of each element in `array1`.\n",
    "   - c. How long did it take you to solve this question? Was it easy, medium, or hard for you? Feel free to share any comments you have."
   ]
  },
  {
   "cell_type": "markdown",
   "metadata": {},
   "source": [
    "2. **Conditional Logic with Arrays:**\n",
    "   Given the following arrays:\n",
    "   ```python\n",
    "   temperatures = np.array([25, 30, 15, 10, 20])\n",
    "   ```\n",
    "   - a. Create a new array `hot_or_cold` where values above 20 are labeled as \"hot\" and below 20 as \"cold\".\n",
    "   - b. Create a new array where temperatures less than the mean of the entire array are replaced with -1.\n",
    "   - c. Replace all temperatures below 15 with 0.\n",
    "   - d. Replace values in each row with the maximum value of that row.\n",
    "   - e. How long did it take you to solve this question? Was it easy, medium, or hard for you? Feel free to share any comments you have."
   ]
  },
  {
   "cell_type": "markdown",
   "metadata": {},
   "source": [
    "3. **Mathematical and Statistical Methods:**\n",
    "   Use the following array:\n",
    "   ```python\n",
    "   test_scores = np.array([85, 90, 78, 92, 88])\n",
    "   ```\n",
    "   - a. Calculate the mean test score.\n",
    "   - b. Determine the maximum test score.\n",
    "   - c. Compute the cumulative sum of the test scores.\n",
    "   - d. How long did it take you to solve this question? Was it easy, medium, or hard for you? Feel free to share any comments you have."
   ]
  },
  {
   "cell_type": "markdown",
   "metadata": {},
   "source": [
    "\n",
    "4. **Linear Algebra:**\n",
    "   Given two matrices:\n",
    "   ```python\n",
    "   matrix1 = np.array([[1, 2], [3, 4]])\n",
    "   matrix2 = np.array([[5, 6], [7, 8]])\n",
    "   ```\n",
    "   - a. Compute the dot product of `matrix1` and `matrix2`.\n",
    "   - b. Find the determinant of `matrix1`.\n",
    "   - c. Find the inverse of the sum of matrices `A` and `B`.\n",
    "   - d. Reshape `array1` into a 1D array.\n",
    "   - e. Compute the eigenvalues and eigenvectors of the `matrix1`.\n",
    "   - f. Calculate the cross-product of the `matrix1` and `vector=np.array([1, 2])`.\n",
    "   - g. How long did it take you to solve this question? Was it easy, medium, or hard for you? Feel free to share any comments you have."
   ]
  },
  {
   "cell_type": "markdown",
   "metadata": {},
   "source": [
    "5. **Random Walks Simulation:**\n",
    "   Simulate a random walk with 100 steps using numpy. Start at position 0, and at each step, move either 1 step to the right or 1 step to the left with equal probability.\n",
    "   - a. Plot the trajectory of the random walk.\n",
    "   - b. Find the maximum distance from the starting position reached during the walk.\n",
    "   - c. Calculate and print the mean and standard deviation of the final positions in the random walks.\n",
    "   - d. Experiment with different step distributions. Instead of equal-sized coin flips, use `rng.standard_normal` to generate normally distributed steps with a mean and standard deviation. (e.g, draws = 0.25 * rng.standard_normal((nwalks, nsteps)))\n",
    "   - e. How long did it take you to solve this question? Was it easy, medium, or hard for you? Feel free to share any comments you have."
   ]
  },
  {
   "cell_type": "markdown",
   "metadata": {},
   "source": [
    "6. **DataFrame Operations:**\n",
    "   \n",
    "   Given the following DataFrame `df`:\n",
    "   ```python\n",
    "   df = pd.DataFrame({\"A\": [1, 2, 3, 4, 5], \"B\": [10, 20, 30, 40, 50]})\n",
    "   ```\n",
    "   - a) Compute the sum of each column in the DataFrame.\n",
    "   - b) Calculate the mean of column 'A'.\n",
    "   - c) Find the maximum value in column 'B'.\n",
    "   - d) Compute the cumulative sum of each column.\n",
    "   - e) How long did it take you to solve this question? Was it easy, medium, or hard for you? Feel free to share any comments you have.\n"
   ]
  },
  {
   "cell_type": "markdown",
   "metadata": {},
   "source": [
    "7. **Sorting and Ranking:**\n",
    "\n",
    "   Consider the DataFrame `data`:\n",
    "   ```python\n",
    "   data = pd.DataFrame({\"A\": [3, 1, 4, 2], \"B\": [10, 30, 20, 40]}, index=[\"D\", \"B\", \"C\", \"A\"])\n",
    "   ```\n",
    "   - a) Sort the DataFrame `data` by index in ascending order.\n",
    "   - b) Sort the DataFrame `data` by column 'B' in descending order.\n",
    "   - c) Rank the values in column 'A' in descending order.\n",
    "   - d) How long did it take you to solve this question? Was it easy, medium, or hard for you? Feel free to share any comments you have.\n"
   ]
  },
  {
   "cell_type": "markdown",
   "metadata": {},
   "source": [
    "8. **Descriptive Statistics:**\n",
    "\n",
    "   Suppose we have the DataFrame `stats_data`:\n",
    "   ```python\n",
    "   stats_data = pd.DataFrame({\"X\": [10, 20, 30, 40, 50], \"Y\": [5, 15, 25, 35, 45]})\n",
    "   ```\n",
    "   - a) Compute the sum of each row in the DataFrame.\n",
    "   - b) Calculate the median of column 'X'.\n",
    "   - c) Compute the standard deviation of column 'Y'.\n",
    "   - d) How long did it take you to solve this question? Was it easy, medium, or hard for you? Feel free to share any comments you have."
   ]
  },
  {
   "cell_type": "markdown",
   "metadata": {},
   "source": [
    " 9. **GroupBy and Aggregation:**\n",
    "\n",
    "   Given the DataFrame `employee_data`:\n",
    "   ```python\n",
    "   employee_data = pd.DataFrame({\"Department\": [\"IT\", \"HR\", \"IT\", \"Finance\", \"HR\"], \"Salary\": [60000, 55000, 65000, 70000, 60000]})\n",
    "   ```\n",
    "   - a) Group the DataFrame `employee_data` by 'Department' and calculate the total salary for each department.\n",
    "   - b) Find the department with the highest average salary.\n",
    "   - c) Calculate the difference between the highest and lowest salary in each department.\n",
    "   - d) How long did it take you to solve this question? Was it easy, medium, or hard for you? Feel free to share any comments you have."
   ]
  },
  {
   "cell_type": "markdown",
   "metadata": {},
   "source": [
    "10. **Correlation and Covariance:**\n",
    "\n",
    "   Given the DataFrame `stock_data` representing stock prices over time:\n",
    "   ```python\n",
    "   dates = pd.date_range(\"2023-01-01\", periods=5)\n",
    "   stock_prices = pd.DataFrame({\"AAPL\": [100, 105, 110, 115, 120], \"GOOG\": [200, 205, 210, 215, 220]}, index=dates)\n",
    "   ```\n",
    "   - a) Compute the correlation between columns 'AAPL' and 'GOOG'.\n",
    "   - b) Calculate the covariance between columns 'AAPL' and 'GOOG'.\n",
    "   - c) Calculate the percentage change in stock prices for each day.\n",
    "   - d) Find the date with the highest closing price for each stock.\n",
    "   - e) How long did it take you to solve this question? Was it easy, medium, or hard for you? Feel free to share any comments you have."
   ]
  },
  {
   "cell_type": "markdown",
   "metadata": {},
   "source": [
    "11. **Unique Values, Value Counts, and Membership:**\n",
    "\n",
    "   Consider the Series `obj`:\n",
    "   ```python\n",
    "   obj = pd.Series([\"a\", \"b\", \"c\", \"a\", \"a\", \"b\", \"c\", \"d\", \"e\"])\n",
    "   ```\n",
    "   - a) Extract the unique values from the Series `obj`.\n",
    "   - b) Calculate the frequency of each value in the Series `obj`.\n",
    "   - c) Check if the value 'd' is present in the Series `obj`.\n",
    "   - d) How long did it take you to solve this question? Was it easy, medium, or hard for you? Feel free to share any comments you have.\n"
   ]
  },
  {
   "cell_type": "markdown",
   "metadata": {},
   "source": [
    "12. **Handling Missing Data:**\n",
    "\n",
    "   Suppose we have the DataFrame `missing_data` with missing values:\n",
    "   ```python\n",
    "   missing_data = pd.DataFrame({\"A\": [1, np.nan, 3, 4, np.nan], \"B\": [10, 20, np.nan, 40, 50]})\n",
    "   ```\n",
    "   - a) Fill the missing values in column 'A' with the mean of column 'A'.\n",
    "   - b) Drop rows with missing values.\n",
    "   - c) Replace missing values in column 'B' with the median of column 'B'.\n",
    "   - d) How long did it take you to solve this question? Was it easy, medium, or hard for you? Feel free to share any comments you have.\n",
    "   \n",
    "   \n"
   ]
  }
 ],
 "metadata": {
  "kernelspec": {
   "display_name": "Python 3",
   "language": "python",
   "name": "python3"
  },
  "language_info": {
   "codemirror_mode": {
    "name": "ipython",
    "version": 3
   },
   "file_extension": ".py",
   "mimetype": "text/x-python",
   "name": "python",
   "nbconvert_exporter": "python",
   "pygments_lexer": "ipython3",
   "version": "3.10.13"
  }
 },
 "nbformat": 4,
 "nbformat_minor": 2
}
