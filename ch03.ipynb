{
 "cells": [
  {
   "cell_type": "markdown",
   "metadata": {},
   "source": [
    "# Chapter 3. Built-In Data Structures, Functions, and Files\n",
    "\n",
    "This chapter 3 focuses on fundamental elements of the Python language that are essential throughout the book. It emphasizes the synergy between Python's built-in data manipulation tools and additional libraries like pandas and NumPy, designed for more complex computational tasks with large datasets. The chapter covers core data structures (tuples, lists, dictionaries, and sets), creating reusable functions in Python, and understanding the basics of working with file objects and local file systems.\n",
    "\n",
    "# 3.1 Data Structures and Sequences\n",
    "Python boasts straightforward yet potent data structures. Proficiency in their utilization is a crucial aspect of achieving expertise as a Python programmer. Our journey begins with tuples, lists, and dictionaries, among the sequence types commonly employed.\n",
    "\n",
    "**Tuple**\n",
    "A tuple is a fixed-length, immutable sequence of Python objects, which, once assigned, cannot be changed. The simplest method to create a tuple is by specifying a comma-separated sequence of values enclosed within parentheses:\n",
    "\n",
    "```python\n",
    "tup = (4, 5, 6)\n",
    "```\n",
    "\n",
    "In this example, the tuple `tup` is defined with the values 4, 5, and 6. Once created, the content of the tuple remains3 constant throughout its existence."
   ]
  },
  {
   "cell_type": "code",
   "execution_count": 1,
   "metadata": {},
   "outputs": [
    {
     "data": {
      "text/plain": [
       "(4, 5, 6)"
      ]
     },
     "execution_count": 1,
     "metadata": {},
     "output_type": "execute_result"
    }
   ],
   "source": [
    "tup = (4, 5, 6)\n",
    "tup"
   ]
  },
  {
   "cell_type": "markdown",
   "metadata": {},
   "source": [
    "Certainly, in many contexts, the parentheses can be omitted when creating a tuple. Therefore, the tuple assignment can also be expressed without explicit parentheses, like so:\n",
    "\n",
    "```python\n",
    "tup = 4, 5, 6\n",
    "```\n",
    "\n",
    "This syntax is equivalent to the previous example and is a concise alternative when creating tuples with a simple sequence of values."
   ]
  },
  {
   "cell_type": "code",
   "execution_count": 2,
   "metadata": {},
   "outputs": [
    {
     "data": {
      "text/plain": [
       "(4, 5, 6)"
      ]
     },
     "execution_count": 2,
     "metadata": {},
     "output_type": "execute_result"
    }
   ],
   "source": [
    "tup = 4, 5, 6\n",
    "tup"
   ]
  },
  {
   "cell_type": "markdown",
   "metadata": {},
   "source": [
    "Certainly, you have the capability to convert any sequence or iterator into a tuple by utilizing the `tuple` function. Here are examples illustrating this conversion:\n",
    "\n",
    "```python\n",
    "result1 = tuple([4, 0, 2])  # Converts a list to a tuple\n",
    "result2 = tuple('string')  # Converts a string to a tuple\n",
    "```\n",
    "\n",
    "In the first example, the `tuple` function is used to convert the list `[4, 0, 2]` into a tuple. In the second example, the characters of the string 'string' are converted into a tuple. This flexibility allows you to easily create tuples from various iterable objects."
   ]
  },
  {
   "cell_type": "code",
   "execution_count": 3,
   "metadata": {},
   "outputs": [
    {
     "data": {
      "text/plain": [
       "(4, 0, 2)"
      ]
     },
     "execution_count": 3,
     "metadata": {},
     "output_type": "execute_result"
    }
   ],
   "source": [
    "tuple([4, 0, 2])"
   ]
  },
  {
   "cell_type": "code",
   "execution_count": 4,
   "metadata": {},
   "outputs": [
    {
     "data": {
      "text/plain": [
       "('s', 't', 'r', 'i', 'n', 'g')"
      ]
     },
     "execution_count": 4,
     "metadata": {},
     "output_type": "execute_result"
    }
   ],
   "source": [
    "tup = tuple('string')\n",
    "tup"
   ]
  },
  {
   "cell_type": "markdown",
   "metadata": {},
   "source": [
    "Indeed, elements within a tuple can be accessed using square brackets (`[]`), following the convention of many other sequence types. In Python, as in languages such as C, C++, Java, and others, sequences are 0-indexed. Here's an example of accessing the first element of a tuple:\n",
    "\n",
    "```python\n",
    "tup = (4, 5, 6)\n",
    "first_element = tup[0]\n",
    "```\n",
    "\n",
    "In this case, `first_element` will be assigned the value 4, as indexing starts from 0 in Python."
   ]
  },
  {
   "cell_type": "code",
   "execution_count": 7,
   "metadata": {},
   "outputs": [
    {
     "data": {
      "text/plain": [
       "'s'"
      ]
     },
     "execution_count": 7,
     "metadata": {},
     "output_type": "execute_result"
    }
   ],
   "source": [
    "tup[0]"
   ]
  },
  {
   "cell_type": "markdown",
   "metadata": {},
   "source": [
    "Certainly, when defining tuples within more intricate expressions, it is often necessary to enclose the values in parentheses. Here's an example of creating a tuple of tuples and accessing its elements:\n",
    "\n",
    "```python\n",
    "nested_tup = (4, 5, 6), (7, 8)\n",
    "\n",
    "# Accessing the entire tuple\n",
    "complete_tuple = nested_tup\n",
    "\n",
    "# Accessing the first tuple within the nested structure\n",
    "first_tuple = nested_tup[0]\n",
    "\n",
    "# Accessing the second tuple within the nested structure\n",
    "second_tuple = nested_tup[1]\n",
    "```\n",
    "\n",
    "In this case, `complete_tuple` is the entire tuple of tuples, `first_tuple` corresponds to the tuple (4, 5, 6), and `second_tuple` corresponds to the tuple (7, 8). The use of parentheses aids in creating and referencing nested structures."
   ]
  },
  {
   "cell_type": "code",
   "execution_count": 8,
   "metadata": {},
   "outputs": [
    {
     "data": {
      "text/plain": [
       "((4, 5, 6), (7, 8))"
      ]
     },
     "execution_count": 8,
     "metadata": {},
     "output_type": "execute_result"
    }
   ],
   "source": [
    "nested_tup = (4, 5, 6), (7, 8)\n",
    "nested_tup\n",
    "\n"
   ]
  },
  {
   "cell_type": "code",
   "execution_count": 11,
   "metadata": {},
   "outputs": [
    {
     "data": {
      "text/plain": [
       "(4, 5, 6)"
      ]
     },
     "execution_count": 11,
     "metadata": {},
     "output_type": "execute_result"
    }
   ],
   "source": [
    "nested_tup[0]"
   ]
  },
  {
   "cell_type": "code",
   "execution_count": 13,
   "metadata": {},
   "outputs": [
    {
     "data": {
      "text/plain": [
       "8"
      ]
     },
     "execution_count": 13,
     "metadata": {},
     "output_type": "execute_result"
    }
   ],
   "source": [
    "nested_tup[1][1]"
   ]
  },
  {
   "cell_type": "markdown",
   "metadata": {},
   "source": [
    "Tuples in Python are immutable, meaning that once created, you cannot modify the objects stored in each slot. The following example demonstrates an attempt to modify an element within a tuple, which is not allowed:\n",
    "\n",
    "```python\n",
    "tup = tuple(['foo', [1, 2], True])\n",
    "\n",
    "# This operation is not allowed and will result in an error\n",
    "tup[2] = False\n",
    "```\n",
    "\n",
    "This would raise a `TypeError` since tuples do not support item assignment after creation. The immutability of tuples ensures their integrity and consistency throughout their existence. If you need a data structure with mutable elements, a list might be a more suitable choice."
   ]
  },
  {
   "cell_type": "code",
   "execution_count": 14,
   "metadata": {},
   "outputs": [
    {
     "ename": "TypeError",
     "evalue": "'tuple' object does not support item assignment",
     "output_type": "error",
     "traceback": [
      "\u001b[0;31m---------------------------------------------------------------------------\u001b[0m",
      "\u001b[0;31mTypeError\u001b[0m                                 Traceback (most recent call last)",
      "Cell \u001b[0;32mIn[14], line 2\u001b[0m\n\u001b[1;32m      1\u001b[0m tup \u001b[38;5;241m=\u001b[39m \u001b[38;5;28mtuple\u001b[39m([\u001b[38;5;124m'\u001b[39m\u001b[38;5;124mfoo\u001b[39m\u001b[38;5;124m'\u001b[39m, [\u001b[38;5;241m1\u001b[39m, \u001b[38;5;241m2\u001b[39m], \u001b[38;5;28;01mTrue\u001b[39;00m])\n\u001b[0;32m----> 2\u001b[0m \u001b[43mtup\u001b[49m\u001b[43m[\u001b[49m\u001b[38;5;241;43m2\u001b[39;49m\u001b[43m]\u001b[49m \u001b[38;5;241m=\u001b[39m \u001b[38;5;28;01mFalse\u001b[39;00m\n",
      "\u001b[0;31mTypeError\u001b[0m: 'tuple' object does not support item assignment"
     ]
    }
   ],
   "source": [
    "tup = tuple(['foo', [1, 2], True])\n",
    "tup[2] = False"
   ]
  },
  {
   "cell_type": "markdown",
   "metadata": {},
   "source": [
    "If an object contained within a tuple is mutable, for example, a list, it can be modified in place. The following example illustrates this concept:\n",
    "\n",
    "```python\n",
    "tup = ('foo', [1, 2], True)\n",
    "\n",
    "# Modifying the mutable object (list) within the tuple\n",
    "tup[1].append(3)\n",
    "```\n",
    "\n",
    "In this case, the `append` method is used to modify the list `[1, 2]` within the tuple. As a result, the updated tuple is `('foo', [1, 2, 3], True)`. While the tuple itself remains immutable, its elements, if mutable, can be modified in place."
   ]
  },
  {
   "cell_type": "code",
   "execution_count": 15,
   "metadata": {},
   "outputs": [
    {
     "data": {
      "text/plain": [
       "('foo', [1, 2, 3], True)"
      ]
     },
     "execution_count": 15,
     "metadata": {},
     "output_type": "execute_result"
    }
   ],
   "source": [
    "tup[1].append(3)   # Modifying the mutable object (list) within the tuple\n",
    "tup"
   ]
  },
  {
   "cell_type": "markdown",
   "metadata": {},
   "source": [
    "#### Concatenate tuples\n",
    "You can combine or concatenate tuples by using the `+` operator, resulting in the creation of longer tuples. Here's an example along with an explanation:\n",
    "\n",
    "```python\n",
    "# Concatenating three tuples to form a longer tuple\n",
    "result = (4, None, 'foo') + (6, 0) + ('bar',)\n",
    "```\n",
    "\n",
    "The `+` operator is employed to concatenate the tuples `(4, None, 'foo')`, `(6, 0)`, and `('bar',)`. The resulting tuple, assigned to the variable `result`, is `(4, None, 'foo', 6, 0, 'bar')`. This operation allows for the seamless combination of individual tuples into a single, longer tuple."
   ]
  },
  {
   "cell_type": "code",
   "execution_count": 16,
   "metadata": {},
   "outputs": [
    {
     "data": {
      "text/plain": [
       "(4, None, 'foo', 6, 0, 'bar')"
      ]
     },
     "execution_count": 16,
     "metadata": {},
     "output_type": "execute_result"
    }
   ],
   "source": [
    "(4, None, 'foo') + (6, 0) + ('bar',)   # Concatenating three tuples to form a longer tuple"
   ]
  },
  {
   "cell_type": "markdown",
   "metadata": {},
   "source": [
    "Multiplying a tuple by an integer, akin to lists, results in concatenating the tuple with itself multiple times. In the provided example (`('foo', 'bar') * 4`), it signifies that the original tuple `('foo', 'bar')` is repeated four times, generating a new tuple: `('foo', 'bar', 'foo', 'bar', 'foo', 'bar', 'foo', 'bar')`. This multiplication operation provides a concise way to replicate and extend tuples according to the specified multiplier."
   ]
  },
  {
   "cell_type": "code",
   "execution_count": 10,
   "metadata": {},
   "outputs": [
    {
     "data": {
      "text/plain": [
       "('foo', 'bar', 'foo', 'bar', 'foo', 'bar', 'foo', 'bar')"
      ]
     },
     "execution_count": 10,
     "metadata": {},
     "output_type": "execute_result"
    }
   ],
   "source": [
    "('foo', 'bar') * 4"
   ]
  },
  {
   "cell_type": "markdown",
   "metadata": {},
   "source": [
    "It's important to note that when multiplying a tuple by an integer, the objects themselves are not duplicated; instead, only references to the existing objects are replicated. This means that the elements within the multiplied tuples point to the same underlying objects as the original tuple. Any modification to the referenced objects will be reflected across all instances in the multiplied tuple. Understanding this behavior is crucial for handling mutable objects within tuples and avoiding unexpected consequences.\n",
    "\n",
    "In the following example, when the original tuple is multiplied by 2, the elements within the multiplied tuple still reference the same list object as the original tuple. Therefore, when we modify the list inside the original tuple, the change is reflected in the multiplied tuple as well."
   ]
  },
  {
   "cell_type": "code",
   "execution_count": 17,
   "metadata": {},
   "outputs": [
    {
     "data": {
      "text/plain": [
       "(1, 2, [3, 4])"
      ]
     },
     "execution_count": 17,
     "metadata": {},
     "output_type": "execute_result"
    }
   ],
   "source": [
    "# Original tuple with a list as one of its elements\n",
    "original_tuple = (1, 2, [3, 4])\n",
    "original_tuple"
   ]
  },
  {
   "cell_type": "code",
   "execution_count": 18,
   "metadata": {},
   "outputs": [
    {
     "data": {
      "text/plain": [
       "(1, 2, [3, 4], 1, 2, [3, 4])"
      ]
     },
     "execution_count": 18,
     "metadata": {},
     "output_type": "execute_result"
    }
   ],
   "source": [
    "# Multiplying the tuple by an integer\n",
    "multiplied_tuple = original_tuple * 2\n",
    "multiplied_tuple"
   ]
  },
  {
   "cell_type": "code",
   "execution_count": 19,
   "metadata": {},
   "outputs": [
    {
     "data": {
      "text/plain": [
       "(1, 2, [3, 4, 5])"
      ]
     },
     "execution_count": 19,
     "metadata": {},
     "output_type": "execute_result"
    }
   ],
   "source": [
    "# Modifying the list inside the original tuple\n",
    "original_tuple[2].append(5)\n",
    "original_tuple"
   ]
  },
  {
   "cell_type": "code",
   "execution_count": 20,
   "metadata": {},
   "outputs": [
    {
     "data": {
      "text/plain": [
       "(1, 2, [3, 4, 5], 1, 2, [3, 4, 5])"
      ]
     },
     "execution_count": 20,
     "metadata": {},
     "output_type": "execute_result"
    }
   ],
   "source": [
    "multiplied_tuple"
   ]
  },
  {
   "cell_type": "markdown",
   "metadata": {},
   "source": [
    "#### Unpacking Tuples:\n",
    "When you attempt to assign values to a tuple-like expression of variables, Python automatically endeavors to unpack the values from the right-hand side of the equals sign. \n",
    "\n",
    "In the following example, the values `(4, 5, 6)` are unpacked into the variables `a`, `b`, and `c`. After this operation, the value of `b` will be 5. This unpacking feature provides a concise and expressive way to assign multiple variables simultaneously based on the contents of a tuple."
   ]
  },
  {
   "cell_type": "code",
   "execution_count": 21,
   "metadata": {},
   "outputs": [
    {
     "data": {
      "text/plain": [
       "5"
      ]
     },
     "execution_count": 21,
     "metadata": {},
     "output_type": "execute_result"
    }
   ],
   "source": [
    "tup = (4, 5, 6)\n",
    "a, b, c = tup\n",
    "b"
   ]
  },
  {
   "cell_type": "markdown",
   "metadata": {},
   "source": [
    "Even sequences containing nested tuples can be unpacked in Python: In the following example, the tuple `(6, 7)` within the original tuple is unpacked into the variables `c` and `d`. Consequently, the value of `d` will be 7 after the unpacking operation. This capability allows for flexible and hierarchical unpacking of values from nested structures within tuples."
   ]
  },
  {
   "cell_type": "code",
   "execution_count": 22,
   "metadata": {},
   "outputs": [
    {
     "data": {
      "text/plain": [
       "7"
      ]
     },
     "execution_count": 22,
     "metadata": {},
     "output_type": "execute_result"
    }
   ],
   "source": [
    "tup = 4, 5, (6, 7)\n",
    "a, b, (c, d) = tup\n",
    "d"
   ]
  },
  {
   "cell_type": "markdown",
   "metadata": {},
   "source": [
    "Utilizing this unpacking functionality in Python, you can effortlessly swap variable names—a task that, in many other languages, might involve temporary variables. In Python, the swapping process can be succinctly expressed without the need for a temporary variable:\n",
    "\n",
    "```python\n",
    "a, b = b, a\n",
    "```\n",
    "\n",
    "This elegant one-liner takes advantage of tuple packing and unpacking to swap the values of `a` and `b` without the necessity of an auxiliary variable. The right-hand side creates a tuple `(b, a)`, and the variables on the left-hand side are then unpacked accordingly.\n",
    "\n",
    "Absolutely, in Python, the swap can be achieved succinctly, as demonstrated in your example:\n",
    "\n",
    "```python\n",
    "a, b = 1, 2\n",
    "b, a = a, b\n",
    "```\n",
    "\n",
    "This concise syntax takes advantage of tuple packing and unpacking, allowing for the direct swapping of values between `a` and `b` without the need for a temporary variable. This not only enhances code readability but also exemplifies the flexibility and elegance of Python's syntax."
   ]
  },
  {
   "cell_type": "code",
   "execution_count": 23,
   "metadata": {},
   "outputs": [
    {
     "data": {
      "text/plain": [
       "1"
      ]
     },
     "execution_count": 23,
     "metadata": {},
     "output_type": "execute_result"
    }
   ],
   "source": [
    "a, b = 1, 2\n",
    "a"
   ]
  },
  {
   "cell_type": "code",
   "execution_count": 24,
   "metadata": {},
   "outputs": [
    {
     "data": {
      "text/plain": [
       "2"
      ]
     },
     "execution_count": 24,
     "metadata": {},
     "output_type": "execute_result"
    }
   ],
   "source": [
    "b"
   ]
  },
  {
   "cell_type": "code",
   "execution_count": 25,
   "metadata": {},
   "outputs": [
    {
     "data": {
      "text/plain": [
       "2"
      ]
     },
     "execution_count": 25,
     "metadata": {},
     "output_type": "execute_result"
    }
   ],
   "source": [
    "b, a = a, b\n",
    "a"
   ]
  },
  {
   "cell_type": "code",
   "execution_count": 26,
   "metadata": {},
   "outputs": [
    {
     "data": {
      "text/plain": [
       "1"
      ]
     },
     "execution_count": 26,
     "metadata": {},
     "output_type": "execute_result"
    }
   ],
   "source": [
    "b"
   ]
  },
  {
   "cell_type": "markdown",
   "metadata": {},
   "source": [
    "A common and powerful use of variable unpacking in Python is when iterating over sequences of tuples or lists. The following example illustrates this well:\n",
    "\n",
    "In this case, each iteration unpacks the tuple `(1, 2, 3)`, `(4, 5, 6)`, and `(7, 8, 9)` into the variables `a`, `b`, and `c` respectively. This type of iterable unpacking simplifies the code when working with structured data, making it more readable and expressive."
   ]
  },
  {
   "cell_type": "code",
   "execution_count": 29,
   "metadata": {},
   "outputs": [
    {
     "name": "stdout",
     "output_type": "stream",
     "text": [
      "a=1, b=2, c=3\n",
      "a=4, b=5, c=6\n",
      "a=7, b=8, c=9\n"
     ]
    }
   ],
   "source": [
    "seq = [(1, 2, 3), (4, 5, 6), (7, 8, 9)]\n",
    "for a, b, c in seq:\n",
    "    print(f'a={a}, b={b}, c={c}')"
   ]
  },
  {
   "cell_type": "markdown",
   "metadata": {},
   "source": [
    "Another common and powerful application of variable unpacking is when returning multiple values from a function.\n",
    "\n",
    "Additionally, the concept of \"plucking\" elements from the beginning of a tuple is facilitated by a special syntax: `*rest`. This syntax is not only applicable in unpacking tuples but is also used in function signatures to capture an arbitrarily long list of positional arguments.\n",
    "\n",
    "Here's an example illustrating the use of `*rest` to capture the remaining elements after extracting `a` and `b` from the tuple:\n",
    "\n",
    "After this operation, `a` will be 1, `b` will be 2, and `rest` will be a list containing the remaining elements `[3, 4, 5]`. This provides a flexible way to handle variable-length structures and is commonly used in functions where the number of arguments may vary."
   ]
  },
  {
   "cell_type": "code",
   "execution_count": 30,
   "metadata": {},
   "outputs": [
    {
     "data": {
      "text/plain": [
       "1"
      ]
     },
     "execution_count": 30,
     "metadata": {},
     "output_type": "execute_result"
    }
   ],
   "source": [
    "values = 1, 2, 3, 4, 5\n",
    "a, b, *rest = values\n",
    "a"
   ]
  },
  {
   "cell_type": "code",
   "execution_count": 31,
   "metadata": {},
   "outputs": [
    {
     "data": {
      "text/plain": [
       "2"
      ]
     },
     "execution_count": 31,
     "metadata": {},
     "output_type": "execute_result"
    }
   ],
   "source": [
    "b"
   ]
  },
  {
   "cell_type": "code",
   "execution_count": 32,
   "metadata": {},
   "outputs": [
    {
     "data": {
      "text/plain": [
       "[3, 4, 5]"
      ]
     },
     "execution_count": 32,
     "metadata": {},
     "output_type": "execute_result"
    }
   ],
   "source": [
    "rest"
   ]
  },
  {
   "cell_type": "markdown",
   "metadata": {},
   "source": [
    "In situations where you want to discard the remaining elements, it's common to use a placeholder variable, and as a convention, many Python programmers opt for the underscore (`_`) for this purpose. The underscore indicates that the variable is intentionally unused and serves as a visual cue to readers that the value is disregarded.\n",
    "\n",
    "Here's an example illustrating the convention of using underscore for the unwanted variables:\n",
    "\n",
    "In this case, `a` will be 1, `b` will be 2, and the underscore `_` signifies that the remaining elements are intentionally ignored. This practice enhances code clarity and informs others that the specific values are not relevant to the current context."
   ]
  },
  {
   "cell_type": "code",
   "execution_count": 37,
   "metadata": {},
   "outputs": [],
   "source": [
    "a, b,*_ = values"
   ]
  },
  {
   "cell_type": "code",
   "execution_count": 34,
   "metadata": {},
   "outputs": [
    {
     "data": {
      "text/plain": [
       "[3, 4, 5]"
      ]
     },
     "execution_count": 34,
     "metadata": {},
     "output_type": "execute_result"
    }
   ],
   "source": [
    "_"
   ]
  },
  {
   "cell_type": "markdown",
   "metadata": {},
   "source": [
    "Indeed, due to the immutability of tuples, they have a limited set of instance methods. However, one particularly useful method, which is also available for lists, is the `count` method. This method allows you to determine the number of occurrences of a specific value within the tuple.\n",
    "\n",
    "In this In the following example, `count_of_2` will be equal to 4, indicating that the value 2 appears four times in the tuple `a`. The `count` method provides a convenient way to analyze the frequency of specific elements within a tuple."
   ]
  },
  {
   "cell_type": "code",
   "execution_count": 39,
   "metadata": {},
   "outputs": [
    {
     "data": {
      "text/plain": [
       "4"
      ]
     },
     "execution_count": 39,
     "metadata": {},
     "output_type": "execute_result"
    }
   ],
   "source": [
    "a = (1, 2, 2, 2, 3, 4, 2)\n",
    "a.count(2)"
   ]
  },
  {
   "cell_type": "markdown",
   "metadata": {},
   "source": [
    "### List\n",
    "In contrast to tuples, lists exhibit variable length, and their contents can be modified in place, making them mutable. Lists can be defined using square brackets `[]` or the `list` type function:\n",
    "\n",
    "Lists, being mutable, allow for modifications to their elements after creation. In the following example, a list `a_list` is created directly using square brackets, and another list `b_list` is generated by converting a tuple `tup` using the `list` function. "
   ]
  },
  {
   "cell_type": "code",
   "execution_count": 40,
   "metadata": {},
   "outputs": [
    {
     "data": {
      "text/plain": [
       "[2, 3, 7, None]"
      ]
     },
     "execution_count": 40,
     "metadata": {},
     "output_type": "execute_result"
    }
   ],
   "source": [
    "a_list = [2, 3, 7, None]\n",
    "a_list\n"
   ]
  },
  {
   "cell_type": "code",
   "execution_count": 41,
   "metadata": {},
   "outputs": [],
   "source": [
    "tup = (\"foo\", \"bar\", \"baz\")\n"
   ]
  },
  {
   "cell_type": "code",
   "execution_count": 42,
   "metadata": {},
   "outputs": [
    {
     "data": {
      "text/plain": [
       "['foo', 'bar', 'baz']"
      ]
     },
     "execution_count": 42,
     "metadata": {},
     "output_type": "execute_result"
    }
   ],
   "source": [
    "b_list = list(tup)\n",
    "b_list\n"
   ]
  },
  {
   "cell_type": "markdown",
   "metadata": {},
   "source": [
    "The ability to modify individual elements in the list is demonstrated by changing the value at index 1 in `b_list` from 'bar' to 'peekaboo'."
   ]
  },
  {
   "cell_type": "code",
   "execution_count": 43,
   "metadata": {},
   "outputs": [
    {
     "data": {
      "text/plain": [
       "['foo', 'peekaboo', 'baz']"
      ]
     },
     "execution_count": 43,
     "metadata": {},
     "output_type": "execute_result"
    }
   ],
   "source": [
    "b_list[1] = \"peekaboo\"\n",
    "b_list"
   ]
  },
  {
   "cell_type": "markdown",
   "metadata": {},
   "source": [
    "Lists and tuples share semantic similarities, although tuples, being immutable, cannot be modified. They can often be used interchangeably in many functions. The `list` built-in function is commonly employed in data processing to materialize an iterator or generator expression:\n",
    "\n",
    "In the following example, the `range(10)` generator expression is materialized into a list using the `list` function. This process is beneficial in scenarios where the iterator or generator expression needs to be converted into a concrete list for further manipulation or analysis."
   ]
  },
  {
   "cell_type": "code",
   "execution_count": 44,
   "metadata": {},
   "outputs": [
    {
     "data": {
      "text/plain": [
       "range(0, 10)"
      ]
     },
     "execution_count": 44,
     "metadata": {},
     "output_type": "execute_result"
    }
   ],
   "source": [
    "gen = range(10)  # Creating a generator expression\n",
    "gen\n"
   ]
  },
  {
   "cell_type": "code",
   "execution_count": 45,
   "metadata": {},
   "outputs": [
    {
     "data": {
      "text/plain": [
       "[0, 1, 2, 3, 4, 5, 6, 7, 8, 9]"
      ]
     },
     "execution_count": 45,
     "metadata": {},
     "output_type": "execute_result"
    }
   ],
   "source": [
    "list(gen)  # Using the list function to materialize the generator into a list"
   ]
  },
  {
   "cell_type": "markdown",
   "metadata": {},
   "source": [
    "#### Adding and removing elements\n",
    "\n",
    "Elements can be added to the end of a list using the `append` method. \n",
    "\n",
    "In the following case, the `append` method is used to add the string \"dwarf\" to the end of the list `b_list`. The result is an updated list containing the additional element. The `append` method is a convenient way to extend lists dynamically."
   ]
  },
  {
   "cell_type": "code",
   "execution_count": 17,
   "metadata": {},
   "outputs": [
    {
     "data": {
      "text/plain": [
       "['foo', 'peekaboo', 'baz', 'dwarf']"
      ]
     },
     "execution_count": 17,
     "metadata": {},
     "output_type": "execute_result"
    }
   ],
   "source": [
    "b_list.append(\"dwarf\")\n",
    "b_list"
   ]
  },
  {
   "cell_type": "markdown",
   "metadata": {},
   "source": [
    "By utilizing the `insert` method, you can add an element at a particular position within a list. \n",
    "\n",
    "In the following instance, the `insert` method is employed to insert the string \"red\" at index 1 in the list `b_list`. The resulting list reflects the addition of the element at the specified position. The `insert` method allows for precise placement of elements within a list."
   ]
  },
  {
   "cell_type": "code",
   "execution_count": 47,
   "metadata": {},
   "outputs": [
    {
     "data": {
      "text/plain": [
       "['foo', 'red', 'red', 'peekaboo', 'baz']"
      ]
     },
     "execution_count": 47,
     "metadata": {},
     "output_type": "execute_result"
    }
   ],
   "source": [
    "b_list.insert(2, \"red\")    # Inserting the element \"red\" at position 1 in the list\n",
    "b_list"
   ]
  },
  {
   "cell_type": "markdown",
   "metadata": {},
   "source": [
    "When using the `insert` method, it's essential to ensure that the insertion index falls within the valid range of 0 to the length of the list (inclusive). Attempting to insert an element at an index outside this range will result in an `IndexError`. \n",
    "\n",
    "The counterpart to the `insert` operation is `pop`, which removes and retrieves an element from a specific index. In the following instance, the `pop` method is employed to eliminate the element at index 2 in the list `b_list`. The value 'peekaboo' is then returned and stored in the variable `removed_element`. Subsequently, the list is updated, and its contents become `['foo', 'red', 'baz', 'dwarf']`.\n",
    "\n",
    "The `pop` method provides a way to selectively remove elements from a list based on their index while simultaneously obtaining the removed value."
   ]
  },
  {
   "cell_type": "code",
   "execution_count": 48,
   "metadata": {},
   "outputs": [
    {
     "data": {
      "text/plain": [
       "['foo', 'red', 'peekaboo', 'baz']"
      ]
     },
     "execution_count": 48,
     "metadata": {},
     "output_type": "execute_result"
    }
   ],
   "source": [
    "b_list.pop(2)   # Using pop to remove and return the element at index 2\n",
    "b_list"
   ]
  },
  {
   "cell_type": "markdown",
   "metadata": {},
   "source": [
    "Elements can be eliminated based on their value using the `remove` method, which identifies the first occurrence of the specified value and removes it from the list. \n",
    "\n",
    "In the following scenario, the `remove` method is applied to eliminate the first occurrence of the value \"foo\" from the list `b_list`. After this operation, the list is updated, and its contents become `['red', 'baz', 'dwarf', 'foo']`. The `remove` method is useful when you want to delete a specific value from a list without considering its index."
   ]
  },
  {
   "cell_type": "code",
   "execution_count": 49,
   "metadata": {},
   "outputs": [
    {
     "data": {
      "text/plain": [
       "['foo', 'red', 'peekaboo', 'baz', 'foo']"
      ]
     },
     "execution_count": 49,
     "metadata": {},
     "output_type": "execute_result"
    }
   ],
   "source": [
    "b_list.append(\"foo\")   # Adding \"foo\" to the list\n",
    "b_list"
   ]
  },
  {
   "cell_type": "code",
   "execution_count": 50,
   "metadata": {},
   "outputs": [
    {
     "data": {
      "text/plain": [
       "['red', 'peekaboo', 'baz', 'foo']"
      ]
     },
     "execution_count": 50,
     "metadata": {},
     "output_type": "execute_result"
    }
   ],
   "source": [
    "b_list.remove(\"foo\")   # Removing the first occurrence of \"foo\" from the list\n",
    "b_list"
   ]
  },
  {
   "cell_type": "markdown",
   "metadata": {},
   "source": [
    "If performance considerations are not crucial, you can emulate a set-like behavior using a Python list by employing `append` and `remove`. Although Python includes actual set objects (discussed later).\n",
    "\n",
    "In the following case, the `in` keyword is utilized to determine if the value \"dwarf\" exists in the list `b_list`. The result is a boolean indicating whether the specified value is present in the list.\n",
    "\n",
    "It's important to note that while this approach may offer set-like functionality, Python provides dedicated set objects for more efficient and optimized set operations, especially in scenarios involving larger datasets."
   ]
  },
  {
   "cell_type": "code",
   "execution_count": 51,
   "metadata": {},
   "outputs": [
    {
     "data": {
      "text/plain": [
       "False"
      ]
     },
     "execution_count": 51,
     "metadata": {},
     "output_type": "execute_result"
    }
   ],
   "source": [
    "\"dwarf\" in b_list   # Checking if \"dwarf\" is present in the list"
   ]
  },
  {
   "cell_type": "markdown",
   "metadata": {},
   "source": [
    "The `not` keyword can be employed to negate the result obtained from using the `in` keyword. \n",
    "\n",
    "In the following instance, the `not in` expression is used to evaluate whether the value \"dwarf\" is not present in the list `b_list`. The result is a boolean indicating whether the specified value is absent in the list. In this particular case, the output is `False`, suggesting that \"dwarf\" is indeed present in the list."
   ]
  },
  {
   "cell_type": "markdown",
   "metadata": {},
   "source": [
    "Verifying whether a list contains a specific value is considerably slower compared to dictionaries and sets (to be discussed shortly). This is because Python performs a linear scan across the values of the list, resulting in a time complexity proportional to the size of the list. In contrast, dictionaries and sets, which are based on hash tables, can execute such checks in constant time, providing faster performance for membership tests."
   ]
  },
  {
   "cell_type": "code",
   "execution_count": 52,
   "metadata": {},
   "outputs": [
    {
     "data": {
      "text/plain": [
       "True"
      ]
     },
     "execution_count": 52,
     "metadata": {},
     "output_type": "execute_result"
    }
   ],
   "source": [
    "\"dwarf\" not in b_list   # Checking if \"dwarf\" is not present in the list"
   ]
  },
  {
   "cell_type": "markdown",
   "metadata": {},
   "source": [
    "#### Concatenating and combining lists\n",
    "Similar to tuples, combining lists with the `+` operator concatenates them. If you already have a list defined, the `extend` method allows you to append multiple elements to it. It's important to note that concatenating lists with `+` creates a new list, copying the objects over, making it relatively expensive. In contrast, using `extend` to append elements to an existing list is generally more efficient, especially when building up a large list. Therefore, when dealing with lists of lists, using `extend` in a loop is faster than the alternative concatenative approach."
   ]
  },
  {
   "cell_type": "code",
   "execution_count": 53,
   "metadata": {},
   "outputs": [
    {
     "data": {
      "text/plain": [
       "[4, None, 'foo', 7, 8, (2, 3)]"
      ]
     },
     "execution_count": 53,
     "metadata": {},
     "output_type": "execute_result"
    }
   ],
   "source": [
    "[4, None, \"foo\"] + [7, 8, (2, 3)]"
   ]
  },
  {
   "cell_type": "code",
   "execution_count": 23,
   "metadata": {},
   "outputs": [
    {
     "data": {
      "text/plain": [
       "[4, None, 'foo', 7, 8, (2, 3)]"
      ]
     },
     "execution_count": 23,
     "metadata": {},
     "output_type": "execute_result"
    }
   ],
   "source": [
    "x = [4, None, \"foo\"]\n",
    "x.extend([7, 8, (2, 3)])\n",
    "x"
   ]
  },
  {
   "cell_type": "markdown",
   "metadata": {},
   "source": [
    "#### Sort\n",
    "You can arrange the elements of a list in ascending order using the `sort` function, which modifies the list in place without creating a new object. For instance, if you have a list `a` containing numeric elements, calling `a.sort()` will rearrange its elements in ascending order."
   ]
  },
  {
   "cell_type": "code",
   "execution_count": 55,
   "metadata": {},
   "outputs": [
    {
     "data": {
      "text/plain": [
       "[1, 2, 3, 5, 7]"
      ]
     },
     "execution_count": 55,
     "metadata": {},
     "output_type": "execute_result"
    }
   ],
   "source": [
    "a = [7, 2, 5, 1, 3]\n",
    "a.sort()\n",
    "a"
   ]
  },
  {
   "cell_type": "markdown",
   "metadata": {},
   "source": [
    "To sort the list `a` in descending order, you can use the `sort` method with the `reverse` parameter set to `True`. Here's the modified code:"
   ]
  },
  {
   "cell_type": "code",
   "execution_count": 56,
   "metadata": {},
   "outputs": [
    {
     "data": {
      "text/plain": [
       "[7, 5, 3, 2, 1]"
      ]
     },
     "execution_count": 56,
     "metadata": {},
     "output_type": "execute_result"
    }
   ],
   "source": [
    "a.sort(reverse=True)\n",
    "a"
   ]
  },
  {
   "cell_type": "markdown",
   "metadata": {},
   "source": [
    "The `sort` function offers options, one of which is the ability to provide a secondary sort key—a function that determines the value to be used for sorting. This can be useful in scenarios where you want to sort a collection of strings based on their lengths, for example. In the given example, the list `b` is sorted using the `len` function as the key, resulting in a list ordered by string lengths.\n",
    "\n",
    "Additionally, there is a mention of the upcoming `sorted` function, which will be discussed later. The `sorted` function can create a sorted copy of a general sequence, offering an alternative approach to sorting without modifying the original sequence."
   ]
  },
  {
   "cell_type": "code",
   "execution_count": 25,
   "metadata": {},
   "outputs": [
    {
     "data": {
      "text/plain": [
       "['He', 'saw', 'six', 'small', 'foxes']"
      ]
     },
     "execution_count": 25,
     "metadata": {},
     "output_type": "execute_result"
    }
   ],
   "source": [
    "b = [\"saw\", \"small\", \"He\", \"foxes\", \"six\"]\n",
    "b.sort(key=len)\n",
    "b"
   ]
  },
  {
   "cell_type": "markdown",
   "metadata": {},
   "source": [
    "#### Slicing\n",
    "You can use slice notation to extract specific sections from various sequence types. The basic format involves using start:stop within square brackets ([]), where \"start\" is the starting index and \"stop\" is the index up to which the elements will be included.\n",
    "\n",
    "For instance, consider the sequence:\n",
    "```python\n",
    "seq = [7, 2, 3, 7, 5, 6, 0, 1]\n",
    "```\n",
    "\n",
    "If you apply slice notation `seq[1:5]`, it will retrieve elements from index 1 to index 4 (5 is excluded), resulting in the output `[2, 3, 7, 5]`.\n"
   ]
  },
  {
   "cell_type": "code",
   "execution_count": 1,
   "metadata": {},
   "outputs": [
    {
     "data": {
      "text/plain": [
       "[7, 2, 3, 7, 5, 6, 0, 1]"
      ]
     },
     "execution_count": 1,
     "metadata": {},
     "output_type": "execute_result"
    }
   ],
   "source": [
    "seq = [7, 2, 3, 7, 5, 6, 0, 1]\n",
    "seq"
   ]
  },
  {
   "cell_type": "markdown",
   "metadata": {},
   "source": [
    "You can assign new values to a specific slice within a sequence. In the given example:\n",
    "\n",
    "```python\n",
    "seq[3:5] = [6, 3]\n",
    "```\n",
    "\n",
    "It means replacing the elements in the sequence `seq` from index 3 to index 4 with the values `[6, 3]`. After this assignment, the sequence is modified, and the output of `seq` becomes `[7, 2, 3, 6, 3, 6, 0, 1]`."
   ]
  },
  {
   "cell_type": "code",
   "execution_count": 2,
   "metadata": {},
   "outputs": [
    {
     "data": {
      "text/plain": [
       "[2, 3, 7, 5]"
      ]
     },
     "execution_count": 2,
     "metadata": {},
     "output_type": "execute_result"
    }
   ],
   "source": [
    "seq[1:5]"
   ]
  },
  {
   "cell_type": "markdown",
   "metadata": {},
   "source": [
    "The slice notation in Python follows the rule that while the element at the start index is included, the stop index is not included. Consequently, the number of elements in the result is determined by subtracting the start index from the stop index.\n",
    "\n",
    "If either the start or stop is omitted, it defaults to the beginning of the sequence for the start and the end of the sequence for the stop. For instance:\n",
    "\n",
    "```python\n",
    "seq[:5]\n",
    "```\n",
    "This retrieves elements from the start of the sequence up to (but not including) index 5, resulting in the output `[7, 2, 3, 6, 3]`.\n",
    "\n",
    "```python\n",
    "seq[3:]\n",
    "```\n",
    "This fetches elements from index 3 to the end of the sequence, yielding the output `[6, 3, 6, 0, 1]`."
   ]
  },
  {
   "cell_type": "code",
   "execution_count": 31,
   "metadata": {},
   "outputs": [],
   "source": [
    "seq[3:5] = [6, 3]\n",
    "seq"
   ]
  },
  {
   "cell_type": "code",
   "execution_count": 32,
   "metadata": {},
   "outputs": [],
   "source": [
    "seq[:5]"
   ]
  },
  {
   "cell_type": "code",
   "execution_count": null,
   "metadata": {},
   "outputs": [],
   "source": [
    "seq[3:]"
   ]
  },
  {
   "cell_type": "markdown",
   "metadata": {},
   "source": [
    "Negative indices in Python slice notation indicate slicing the sequence relative to the end. In the provided examples:\n",
    "\n",
    "```python\n",
    "seq[-4:]\n",
    "```\n",
    "This extracts elements from the fourth-to-last index to the end of the sequence, resulting in the output `[3, 6, 0, 1]`.\n",
    "\n",
    "```python\n",
    "seq[-6:-2]\n",
    "```\n",
    "This retrieves elements from the sixth-to-last index up to (but not including) the second-to-last index, yielding the output `[3, 6, 3, 6]`."
   ]
  },
  {
   "cell_type": "code",
   "execution_count": 33,
   "metadata": {},
   "outputs": [],
   "source": [
    "seq[-4:]"
   ]
  },
  {
   "cell_type": "code",
   "execution_count": null,
   "metadata": {},
   "outputs": [],
   "source": [
    "seq[-6:-2]"
   ]
  },
  {
   "cell_type": "markdown",
   "metadata": {},
   "source": [
    "Understanding slicing semantics in Python may require some adjustment, especially for those transitioning from languages like R or MATLAB. The provided Figure 3.1 offers a helpful illustration of slicing using both positive and negative integers. In the figure, indices are depicted at the \"bin edges\" to clarify where slice selections begin and end with positive or negative indices.\n",
    "\n",
    "Additionally, a step value can be employed after a second colon to, for example, select every other element. In the given example:\n",
    "\n",
    "```python\n",
    "seq[::2]\n",
    "```\n",
    "\n",
    "This retrieves elements with a step of 2, meaning every second element is selected. The output is `[7, 3, 3, 0]`.\n",
    "\n",
    "\n",
    "![list](images/list1.jpg)"
   ]
  },
  {
   "cell_type": "code",
   "execution_count": 34,
   "metadata": {},
   "outputs": [],
   "source": [
    "seq[::2]"
   ]
  },
  {
   "cell_type": "markdown",
   "metadata": {},
   "source": [
    "Indeed, a clever application of the step value is to use -1, which effectively reverses a list or tuple. In the provided example:\n",
    "\n",
    "```python\n",
    "seq[::-1]\n",
    "```\n",
    "\n",
    "This constructs a reversed version of the sequence, as it iterates through the elements with a step of -1. Consequently, the output is `[1, 0, 6, 3, 6, 3, 2, 7]`."
   ]
  },
  {
   "cell_type": "code",
   "execution_count": 35,
   "metadata": {},
   "outputs": [],
   "source": [
    "seq[::-1]"
   ]
  },
  {
   "cell_type": "markdown",
   "metadata": {},
   "source": [
    "### Dictionary\n",
    "\n",
    "The dictionary, or `dict`, is a crucial built-in data structure in Python. In some other programming languages, dictionaries are referred to as hash maps or associative arrays. A dictionary in Python stores a collection of key-value pairs, where both the key and the value are Python objects. Each key is associated with a corresponding value, enabling convenient retrieval, insertion, modification, or deletion of values based on specific keys.\n",
    "\n",
    "One common method for creating a dictionary is by using curly braces `{}` and colons to separate keys and values. Here are a few examples:\n",
    "\n",
    "```python\n",
    "empty_dict = {}\n",
    "d1 = {\"a\": \"some value\", \"b\": [1, 2, 3, 4]}\n",
    "```\n",
    "\n",
    "The dictionary `d1` contains key-value pairs where the key \"a\" is associated with the value \"some value,\" and the key \"b\" is associated with the list `[1, 2, 3, 4]`. The output of `d1` is `{'a': 'some value', 'b': [1, 2, 3, 4]}`."
   ]
  },
  {
   "cell_type": "code",
   "execution_count": 36,
   "metadata": {},
   "outputs": [],
   "source": [
    "empty_dict = {}\n"
   ]
  },
  {
   "cell_type": "code",
   "execution_count": null,
   "metadata": {},
   "outputs": [],
   "source": [
    "d1 = {\"a\": \"some value\", \"b\": [1, 2, 3, 4]}\n",
    "d1"
   ]
  },
  {
   "cell_type": "markdown",
   "metadata": {},
   "source": [
    "Certainly. The syntax for accessing, inserting, or setting elements in a dictionary is similar to that used for lists or tuples. In the provided examples:\n",
    "\n",
    "```python\n",
    "d1[7] = \"an integer\"\n",
    "```\n",
    "\n",
    "This line inserts a new key-value pair into the dictionary `d1`, associating the key 7 with the value \"an integer.\" After this operation, the dictionary becomes `{'a': 'some value', 'b': [1, 2, 3, 4], 7: 'an integer'}`.\n",
    "\n",
    "```python\n",
    "d1[\"b\"]\n",
    "```\n",
    "\n",
    "This syntax allows you to access the value associated with the key \"b\" in the dictionary. In this case, the output is `[1, 2, 3, 4]`."
   ]
  },
  {
   "cell_type": "code",
   "execution_count": 37,
   "metadata": {},
   "outputs": [],
   "source": [
    "d1[7] = \"an integer\"\n",
    "d1\n"
   ]
  },
  {
   "cell_type": "code",
   "execution_count": null,
   "metadata": {},
   "outputs": [],
   "source": [
    "d1[\"b\"]"
   ]
  },
  {
   "cell_type": "markdown",
   "metadata": {},
   "source": [
    "You can determine if a dictionary contains a specific key using the same syntax employed for checking the presence of a value in a list or tuple. In the given example:\n",
    "\n",
    "```python\n",
    "\"b\" in d1\n",
    "```\n",
    "\n",
    "This expression checks if the key \"b\" is present in the dictionary `d1`. The output is `True`, indicating that the key \"b\" is indeed present in the dictionary."
   ]
  },
  {
   "cell_type": "code",
   "execution_count": 38,
   "metadata": {},
   "outputs": [],
   "source": [
    "\"b\" in d1"
   ]
  },
  {
   "cell_type": "markdown",
   "metadata": {},
   "source": [
    "You have two methods for deleting values from a dictionary: using the `del` keyword or the `pop` method, which not only deletes the key but also returns the corresponding value. Here's an illustration:\n",
    "\n",
    "```python\n",
    "# Initial dictionary\n",
    "d1 = {'a': 'some value', 'b': [1, 2, 3, 4], 7: 'an integer', 5: 'some value'}\n",
    "\n",
    "# Adding new key-value pairs\n",
    "d1[5] = 'some value'\n",
    "d1['dummy'] = 'another value'\n",
    "\n",
    "# After additions\n",
    "# {'a': 'some value', 'b': [1, 2, 3, 4], 7: 'an integer', 5: 'some value', 'dummy': 'another value'}\n",
    "\n",
    "# Deleting a key-value pair using del\n",
    "del d1[5]\n",
    "\n",
    "# After deletion using del\n",
    "# {'a': 'some value', 'b': [1, 2, 3, 4], 7: 'an integer', 'dummy': 'another value'}\n",
    "\n",
    "# Deleting a key-value pair using pop\n",
    "ret = d1.pop('dummy')\n",
    "\n",
    "# Returned value from pop\n",
    "# 'another value'\n",
    "\n",
    "# After deletion using pop\n",
    "# {'a': 'some value', 'b': [1, 2, 3, 4], 7: 'an integer'}\n",
    "```\n",
    "\n",
    "In summary, `del d1[5]` removes the key-value pair with the key 5, and `ret = d1.pop('dummy')` removes the key-value pair with the key 'dummy' while also assigning the value 'another value' to the variable `ret`."
   ]
  },
  {
   "cell_type": "code",
   "execution_count": 39,
   "metadata": {},
   "outputs": [],
   "source": [
    "d1[5] = \"some value\"\n",
    "d1\n"
   ]
  },
  {
   "cell_type": "code",
   "execution_count": null,
   "metadata": {},
   "outputs": [],
   "source": [
    "d1[\"dummy\"] = \"another value\"\n",
    "d1\n"
   ]
  },
  {
   "cell_type": "code",
   "execution_count": null,
   "metadata": {},
   "outputs": [],
   "source": [
    "del d1[5]\n",
    "d1\n"
   ]
  },
  {
   "cell_type": "code",
   "execution_count": null,
   "metadata": {},
   "outputs": [],
   "source": [
    "ret = d1.pop(\"dummy\")\n",
    "ret\n"
   ]
  },
  {
   "cell_type": "code",
   "execution_count": null,
   "metadata": {},
   "outputs": [],
   "source": [
    "d1"
   ]
  },
  {
   "cell_type": "markdown",
   "metadata": {},
   "source": [
    "Indeed, the `keys()` and `values()` methods provide iterators for the keys and values of a dictionary, respectively. The order of the keys is determined by their insertion order, and these methods output the keys and values in the same respective order. Here's an example:\n",
    "\n",
    "```python\n",
    "# Given dictionary\n",
    "d1 = {'a': 'some value', 'b': [1, 2, 3, 4], 7: 'an integer'}\n",
    "\n",
    "# Obtaining a list of keys\n",
    "list(d1.keys())\n",
    "# Output: ['a', 'b', 7]\n",
    "\n",
    "# Obtaining a list of values\n",
    "list(d1.values())\n",
    "# Output: ['some value', [1, 2, 3, 4], 'an integer']\n",
    "```\n",
    "\n",
    "In this case, `list(d1.keys())` generates a list of keys in the dictionary, and `list(d1.values())` produces a list of corresponding values. The order of elements in these lists is based on the order in which the keys were originally inserted into the dictionary."
   ]
  },
  {
   "cell_type": "code",
   "execution_count": 40,
   "metadata": {},
   "outputs": [],
   "source": [
    "list(d1.keys())    # Obtaining a list of keys\n"
   ]
  },
  {
   "cell_type": "code",
   "execution_count": null,
   "metadata": {},
   "outputs": [],
   "source": [
    "list(d1.values())    # Obtaining a list of values"
   ]
  },
  {
   "cell_type": "markdown",
   "metadata": {},
   "source": [
    "If you need to iterate over both the keys and values of a dictionary simultaneously, you can utilize the `items()` method, which returns an iterator of 2-tuples containing the key-value pairs. Here's an example:\n",
    "\n",
    "```python\n",
    "# Given dictionary\n",
    "d1 = {'a': 'some value', 'b': [1, 2, 3, 4], 7: 'an integer'}\n",
    "\n",
    "# Obtaining a list of key-value pairs as 2-tuples\n",
    "list(d1.items())\n",
    "# Output: [('a', 'some value'), ('b', [1, 2, 3, 4]), (7, 'an integer')]\n",
    "```\n",
    "\n",
    "In this case, `list(d1.items())` generates a list of 2-tuples where each tuple contains a key-value pair from the dictionary. The order of these tuples corresponds to the order in which the keys were originally inserted into the dictionary."
   ]
  },
  {
   "cell_type": "code",
   "execution_count": 41,
   "metadata": {},
   "outputs": [],
   "source": [
    "list(d1.items())    # Obtaining a list of key-value pairs as 2-tuples"
   ]
  },
  {
   "cell_type": "markdown",
   "metadata": {},
   "source": [
    "You can merge the contents of one dictionary into another using the `update` method. In the provided example:\n",
    "\n",
    "```python\n",
    "# Given dictionary\n",
    "d1 = {'a': 'some value', 'b': [1, 2, 3, 4], 7: 'an integer'}\n",
    "\n",
    "# Updating d1 with the contents of another dictionary\n",
    "d1.update({\"b\": \"foo\", \"c\": 12})\n",
    "\n",
    "# Resulting dictionary after update\n",
    "# {'a': 'some value', 'b': 'foo', 7: 'an integer', 'c': 12}\n",
    "```\n",
    "\n",
    "The `update` method takes a dictionary as an argument and incorporates its key-value pairs into the calling dictionary (`d1` in this case). If a key from the provided dictionary already exists in the calling dictionary, its corresponding value is updated. If a new key is present, it is added to the calling dictionary."
   ]
  },
  {
   "cell_type": "code",
   "execution_count": 42,
   "metadata": {},
   "outputs": [],
   "source": [
    "d1.update({\"b\": \"foo\", \"c\": 12})\n",
    "d1"
   ]
  },
  {
   "cell_type": "markdown",
   "metadata": {},
   "source": [
    "Exactly, the `update` method modifies dictionaries in place. When using `update`, existing keys in the target dictionary (the one calling `update`) will have their old values replaced by the values from the dictionary being passed to `update`. If a key does not exist in the target dictionary, it will be added.\n",
    "\n",
    "In the provided example:\n",
    "\n",
    "```python\n",
    "# Given dictionary\n",
    "d1 = {'a': 'some value', 'b': [1, 2, 3, 4], 7: 'an integer'}\n",
    "\n",
    "# Updating d1 with the contents of another dictionary\n",
    "d1.update({\"b\": \"foo\", \"c\": 12})\n",
    "\n",
    "# Resulting dictionary after update\n",
    "# {'a': 'some value', 'b': 'foo', 7: 'an integer', 'c': 12}\n",
    "```\n",
    "\n",
    "The value associated with the key \"b\" in the original `d1` dictionary is replaced by the value \"foo\" from the dictionary passed to `update`, and a new key \"c\" is added with the value 12."
   ]
  },
  {
   "cell_type": "markdown",
   "metadata": {},
   "source": [
    "#### Creating dictionaries from sequences\n",
    "\n",
    "It is a common scenario to have two sequences that need to be paired up element-wise into a dictionary. Initially, one might use code similar to the following:\n",
    "\n",
    "```python\n",
    "mapping = {}\n",
    "for key, value in zip(key_list, value_list):\n",
    "    mapping[key] = value\n",
    "```\n",
    "\n",
    "This code utilizes the `zip` function to iterate over corresponding elements from `key_list` and `value_list`, assigning each pair to the `mapping` dictionary where elements from `key_list` become keys and elements from `value_list` become values."
   ]
  },
  {
   "cell_type": "code",
   "execution_count": null,
   "metadata": {},
   "outputs": [],
   "source": [
    "mapping = {}\n",
    "for key, value in zip(key_list, value_list):\n",
    "    mapping[key] = value"
   ]
  },
  {
   "cell_type": "markdown",
   "metadata": {},
   "source": [
    "Because a dictionary can be viewed as a collection of 2-tuples, the `dict` function provides a convenient way to create a dictionary from a list of such tuples. In the provided example:\n",
    "\n",
    "```python\n",
    "tuples = zip(range(5), reversed(range(5)))\n",
    "mapping = dict(tuples)\n",
    "```\n",
    "\n",
    "The `zip` function pairs up corresponding elements from `range(5)` and `reversed(range(5))`, creating a sequence of 2-tuples. The `dict` function then transforms this list of tuples into a dictionary named `mapping`. In this case, the resulting dictionary has keys from the first sequence (`range(5)`) and values from the reversed second sequence, producing the output `{0: 4, 1: 3, 2: 2, 3: 1, 4: 0}`."
   ]
  },
  {
   "cell_type": "code",
   "execution_count": 43,
   "metadata": {},
   "outputs": [],
   "source": [
    "tuples = zip(range(5), reversed(range(5)))\n",
    "tuples\n"
   ]
  },
  {
   "cell_type": "code",
   "execution_count": null,
   "metadata": {},
   "outputs": [],
   "source": [
    "mapping = dict(tuples)\n",
    "mapping"
   ]
  },
  {
   "cell_type": "markdown",
   "metadata": {},
   "source": [
    "#### Default values\n",
    "\n",
    "Indeed, the `get` method for dictionaries in Python allows you to retrieve a value associated with a key, and it also allows specifying a default value to be returned if the key is not found. This can simplify code, as shown in the example you provided:\n",
    "\n",
    "```python\n",
    "value = some_dict.get(key, default_value)\n",
    "```\n",
    "\n",
    "This line of code retrieves the value for the specified key from `some_dict`. If the key is not present, it returns `default_value` instead. This eliminates the need for an explicit if-else block to check for key existence, making the code more concise and readable."
   ]
  },
  {
   "cell_type": "markdown",
   "metadata": {},
   "source": [
    "value = some_dict.get(key, default_value)\n",
    "value"
   ]
  },
  {
   "cell_type": "markdown",
   "metadata": {},
   "source": [
    "The `get` method in Python returns `None` by default if the specified key is not present in the dictionary. On the other hand, the `pop` method will raise an exception when attempting to retrieve a non-existent key. When assigning values in a dictionary, these values can be of various types, including collections like lists.\n",
    "\n",
    "For instance, consider a scenario where you have a list of words: [\"apple\", \"bat\", \"bar\", \"atom\", \"book\"]. You may want to categorize these words based on their first letters, creating a dictionary of lists. In the provided example:\n",
    "\n",
    "```python\n",
    "words = [\"apple\", \"bat\", \"bar\", \"atom\", \"book\"]\n",
    "by_letter = {}\n",
    "\n",
    "for word in words:\n",
    "    letter = word[0]\n",
    "    if letter not in by_letter:\n",
    "        by_letter[letter] = [word]\n",
    "    else:\n",
    "        by_letter[letter].append(word)\n",
    "```\n",
    "\n",
    "After this process, the `by_letter` dictionary would be {'a': ['apple', 'atom'], 'b': ['bat', 'bar', 'book']}. This demonstrates how values in a dictionary can be structured, with keys representing categories and corresponding values being lists containing elements associated with those categories."
   ]
  },
  {
   "cell_type": "code",
   "execution_count": 44,
   "metadata": {},
   "outputs": [],
   "source": [
    "words = [\"apple\", \"bat\", \"bar\", \"atom\", \"book\"]\n",
    "by_letter = {}\n",
    "\n",
    "for word in words:\n",
    "    letter = word[0]\n",
    "    if letter not in by_letter:\n",
    "        by_letter[letter] = [word]\n",
    "    else:\n",
    "        by_letter[letter].append(word)\n",
    "\n",
    "by_letter"
   ]
  },
  {
   "cell_type": "markdown",
   "metadata": {},
   "source": [
    "The `setdefault` dictionary method in Python provides a concise way to simplify the workflow of the previous example. The for loop can be rewritten using `setdefault` as follows:\n",
    "\n",
    "```python\n",
    "by_letter = {}\n",
    "\n",
    "for word in words:\n",
    "    letter = word[0]\n",
    "    by_letter.setdefault(letter, []).append(word)\n",
    "```\n",
    "\n",
    "This achieves the same result as the previous code snippet but in a more compact form. The `setdefault` method checks if the specified key (in this case, the variable `letter`) exists in the dictionary. If it does, it returns the corresponding value; otherwise, it sets the key to the default value provided (an empty list `[]` in this case) and then appends the current word to that list. This eliminates the need for explicit conditional statements to handle the creation of lists for new keys."
   ]
  },
  {
   "cell_type": "code",
   "execution_count": 45,
   "metadata": {},
   "outputs": [],
   "source": [
    "by_letter = {}\n",
    "for word in words:\n",
    "    letter = word[0]\n",
    "    by_letter.setdefault(letter, []).append(word)\n"
   ]
  },
  {
   "cell_type": "markdown",
   "metadata": {},
   "source": [
    "by_letter"
   ]
  },
  {
   "cell_type": "markdown",
   "metadata": {},
   "source": [
    "The built-in `collections` module in Python includes a convenient class called `defaultdict`, which further simplifies the process. By using `defaultdict`, you can create a dictionary with default values assigned to each slot. In this case, you pass the `list` type to `defaultdict`, indicating that each key will have an associated list as its default value:\n",
    "\n",
    "```python\n",
    "from collections import defaultdict\n",
    "\n",
    "by_letter = defaultdict(list)\n",
    "\n",
    "for word in words:\n",
    "    by_letter[word[0]].append(word)\n",
    "```\n",
    "\n",
    "This eliminates the need for explicit initialization of empty lists for each key, as `defaultdict` automatically handles it. The resulting `by_letter` dictionary will have the same structure as before: {'a': ['apple', 'atom'], 'b': ['bat', 'bar', 'book']}. Using `defaultdict` is a concise and efficient way to achieve the desired dictionary structure."
   ]
  },
  {
   "cell_type": "code",
   "execution_count": 46,
   "metadata": {},
   "outputs": [],
   "source": [
    "from collections import defaultdict\n",
    "by_letter = defaultdict(list)\n",
    "for word in words:\n",
    "    by_letter[word[0]].append(word)"
   ]
  },
  {
   "cell_type": "markdown",
   "metadata": {},
   "source": [
    "#### Valid dictionary key types\n",
    "\n",
    "In Python dictionaries, while the values can be any Python object, the keys typically need to be immutable objects such as scalar types (int, float, string) or tuples. This requirement is based on the concept of \"hashability.\" The technical term refers to whether an object can be hashed, allowing it to be used as a key in a dictionary.\n",
    "\n",
    "You can use the `hash` function to check the hashability of an object. For example:\n",
    "\n",
    "```python\n",
    "hash(\"string\")               # Output: 4022908869268713487\n",
    "hash((1, 2, (2, 3)))         # Output: -9209053662355515447\n",
    "```\n",
    "\n",
    "In these cases, the objects (string and tuple) are hashable and can be used as keys in a dictionary. However, attempting to hash an object that contains a mutable element, such as a list, will result in a `TypeError`:\n",
    "\n",
    "```python\n",
    "hash((1, 2, [2, 3]))          # TypeError: unhashable type: 'list'\n",
    "```\n",
    "\n",
    "This error occurs because lists are mutable, and mutable objects are not hashable. Therefore, it's important to use immutable objects as keys when working with dictionaries in Python."
   ]
  },
  {
   "cell_type": "code",
   "execution_count": 47,
   "metadata": {},
   "outputs": [],
   "source": [
    "hash(\"string\")\n"
   ]
  },
  {
   "cell_type": "code",
   "execution_count": null,
   "metadata": {},
   "outputs": [],
   "source": [
    "hash((1, 2, (2, 3)))\n"
   ]
  },
  {
   "cell_type": "code",
   "execution_count": null,
   "metadata": {},
   "outputs": [],
   "source": [
    "hash((1, 2, [2, 3])) # fails because lists are mutable"
   ]
  },
  {
   "cell_type": "markdown",
   "metadata": {},
   "source": [
    "Indeed, the hash values produced by the `hash` function can vary between different Python versions.\n",
    "\n",
    "If you need to use a list as a key in a dictionary, one approach is to convert the list into a tuple. Tuples are hashable as long as their elements are hashable. Here's an example:\n",
    "\n",
    "```python\n",
    "d = {}\n",
    "d[tuple([1, 2, 3])] = 5\n",
    "```\n",
    "\n",
    "In this case, the list `[1, 2, 3]` is converted to a tuple `(1, 2, 3)` before being used as a key in the dictionary `d`. This ensures that the key is hashable. The resulting dictionary, in this example, will be `{(1, 2, 3): 5}`. Using tuples in this way provides a workaround for using collections with mutable elements as keys in a dictionary."
   ]
  },
  {
   "cell_type": "code",
   "execution_count": 48,
   "metadata": {},
   "outputs": [],
   "source": [
    "d = {}\n",
    "d[tuple([1, 2, 3])] = 5\n",
    "d"
   ]
  },
  {
   "cell_type": "markdown",
   "metadata": {},
   "source": [
    "### Set\n",
    "\n",
    "A set in Python is an unordered collection of unique elements. There are two ways to create a set: using the `set` function or using a set literal with curly braces.\n",
    "\n",
    "Using the `set` function:\n",
    "\n",
    "```python\n",
    "set([2, 2, 2, 1, 3, 3])    # Output: {1, 2, 3}\n",
    "```\n",
    "\n",
    "Using a set literal:\n",
    "\n",
    "```python\n",
    "{2, 2, 2, 1, 3, 3}         # Output: {1, 2, 3}\n",
    "```\n",
    "\n",
    "In both cases, the resulting set contains only unique elements, and the order of elements is not guaranteed since sets are unordered collections. The duplicate values are automatically removed, and you get a set with distinct elements."
   ]
  },
  {
   "cell_type": "code",
   "execution_count": 49,
   "metadata": {},
   "outputs": [],
   "source": [
    "set([2, 2, 2, 1, 3, 3])\n"
   ]
  },
  {
   "cell_type": "code",
   "execution_count": null,
   "metadata": {},
   "outputs": [],
   "source": [
    "{2, 2, 2, 1, 3, 3}"
   ]
  },
  {
   "cell_type": "markdown",
   "metadata": {},
   "source": [
    "The Sets module in Python supports various mathematical set operations, such as union, intersection, difference, and symmetric difference. To illustrate, let's consider two example sets:\n",
    "\n",
    "```python\n",
    "a = {1, 2, 3, 4, 5}\n",
    "b = {3, 4, 5, 6, 7, 8}\n",
    "```\n",
    "\n",
    "The union of these sets represents the set of distinct elements occurring in either set. This can be calculated using either the `union` method or the `|` binary operator:\n",
    "\n",
    "```python\n",
    "a.union(b)   # Output: {1, 2, 3, 4, 5, 6, 7, 8}\n",
    "a | b        # Output: {1, 2, 3, 4, 5, 6, 7, 8}\n",
    "```\n",
    "\n",
    "The intersection, on the other hand, contains the elements that occur in both sets. This can be achieved using the `intersection` method or the `&` operator:\n",
    "\n",
    "```python\n",
    "a.intersection(b)   # Output: {3, 4, 5}\n",
    "a & b               # Output: {3, 4, 5}\n",
    "```\n",
    "\n",
    "In summary, the Sets module provides convenient methods and operators for performing set operations in Python."
   ]
  },
  {
   "cell_type": "code",
   "execution_count": 50,
   "metadata": {},
   "outputs": [],
   "source": [
    "a = {1, 2, 3, 4, 5}\n",
    "b = {3, 4, 5, 6, 7, 8}"
   ]
  },
  {
   "cell_type": "code",
   "execution_count": 51,
   "metadata": {},
   "outputs": [],
   "source": [
    "a.union(b)\n"
   ]
  },
  {
   "cell_type": "code",
   "execution_count": null,
   "metadata": {},
   "outputs": [],
   "source": [
    "a | b"
   ]
  },
  {
   "cell_type": "code",
   "execution_count": 52,
   "metadata": {},
   "outputs": [],
   "source": [
    "a.intersection(b)\n"
   ]
  },
  {
   "cell_type": "code",
   "execution_count": null,
   "metadata": {},
   "outputs": [],
   "source": [
    "a & b"
   ]
  },
  {
   "cell_type": "markdown",
   "metadata": {},
   "source": [
    "Refer to Table 3.1 for a comprehensive list of commonly used set methods in Python along with alternative syntax and descriptions:\n",
    "\n",
    "\n",
    "Table 3.1: Python Set Operations\n",
    "\n",
    "Function                      | Alternative Syntax | Description\n",
    "------------------------------|---------------------|-------------------------------------------\n",
    "a.add(x)                      | N/A                 | Add element x to set a\n",
    "a.clear()                     | N/A                 | Reset set a to an empty state, discarding all of its elements\n",
    "a.remove(x)                   | N/A                 | Remove element x from set a\n",
    "a.pop()                       | N/A                 | Remove an arbitrary element from set a, raising KeyError if the set is empty\n",
    "a.union(b)                    | a | b               | All of the unique elements in a and b\n",
    "a.update(b)                   | a |= b              | Set the contents of a to be the union of the elements in a and b\n",
    "a.intersection(b)             | a & b               | All of the elements in both a and b\n",
    "a.intersection_update(b)      | a &= b              | Set the contents of a to be the intersection of the elements in a and b\n",
    "a.difference(b)               | a - b               | The elements in a that are not in b\n",
    "a.difference_update(b)        | a -= b              | Set a to the elements in a that are not in b\n",
    "a.symmetric_difference(b)     | a ^ b               | All of the elements in either a or b but not both\n",
    "a.symmetric_difference_update(b)| a ^= b             | Set a to contain the elements in either a or b but not both\n",
    "a.issubset(b)                 | <=                  | True if the elements of a are all contained in b\n",
    "a.issuperset(b)               | >=                  | True if the elements of b are all contained in a\n",
    "a.isdisjoint(b)               | N/A                 | True if a and b have no elements in common\n",
    "\n",
    "\n",
    "This table serves as a quick reference for utilizing these set methods in Python.\n",
    "\n",
    "**Note:** \n",
    "If you provide an input that is not a set to methods such as union and intersection, Python will automatically convert the input to a set before performing the operation. However, when using the binary operators like `|` and `&`, both objects must already be sets for the operation to be executed successfully. Ensure that the data types are appropriate to avoid any unexpected behavior during set operations in Python.\n",
    "\n",
    "All logical set operations in Python have corresponding in-place counterparts, allowing you to replace the contents of the set on the left side of the operation with the result. This can be particularly advantageous for very large sets, as it may offer improved efficiency. Here's an example:\n",
    "\n",
    "```python\n",
    "c = a.copy()\n",
    "c |= b\n",
    "# The contents of set c are now the union of sets a and b\n",
    "\n",
    "d = a.copy()\n",
    "d &= b\n",
    "# The contents of set d are now the intersection of sets a and b\n",
    "```\n",
    "\n",
    "In this way, using the in-place counterparts, such as `|=` for union and `&=` for intersection, enables you to directly modify the existing set, potentially saving resources and time for extensive sets."
   ]
  },
  {
   "cell_type": "code",
   "execution_count": 53,
   "metadata": {},
   "outputs": [],
   "source": [
    "c = a.copy()\n",
    "c |= b\n",
    "c\n"
   ]
  },
  {
   "cell_type": "code",
   "execution_count": null,
   "metadata": {},
   "outputs": [],
   "source": [
    "d = a.copy()\n",
    "d &= b\n",
    "d"
   ]
  },
  {
   "cell_type": "markdown",
   "metadata": {},
   "source": [
    "Similar to dictionary keys, set elements in Python generally must be immutable and hashable. Hashable means that calling the `hash` function on a value should not raise an exception. To accommodate elements that are list-like or other mutable sequences in a set, you can convert them to tuples. Here's an example:\n",
    "\n",
    "```python\n",
    "my_data = [1, 2, 3, 4]\n",
    "my_set = {tuple(my_data)}\n",
    "# The list-like elements are converted to a tuple before being added to the set\n",
    "\n",
    "print(my_set)\n",
    "# Output: {(1, 2, 3, 4)}\n",
    "```\n",
    "\n",
    "By converting the mutable sequence `my_data` to an immutable tuple, you can store it in a set without any issues, ensuring that the set remains consistent with the requirement of having hashable and immutable elements."
   ]
  },
  {
   "cell_type": "code",
   "execution_count": 54,
   "metadata": {},
   "outputs": [],
   "source": [
    "my_data = [1, 2, 3, 4]\n",
    "my_set = {tuple(my_data)}\n",
    "my_set"
   ]
  },
  {
   "cell_type": "markdown",
   "metadata": {},
   "source": [
    "You can verify whether a set is a subset of (contained in) or a superset of (contains all elements of) another set in Python. Here's an example:\n",
    "\n",
    "```python\n",
    "a_set = {1, 2, 3, 4, 5}\n",
    "\n",
    "# Check if {1, 2, 3} is a subset of a_set\n",
    "subset_check = {1, 2, 3}.issubset(a_set)\n",
    "print(subset_check)\n",
    "# Output: True\n",
    "\n",
    "# Check if a_set is a superset of {1, 2, 3}\n",
    "superset_check = a_set.issuperset({1, 2, 3})\n",
    "print(superset_check)\n",
    "# Output: True\n",
    "```\n",
    "\n",
    "In this example, the `issubset` method is used to determine if the set `{1, 2, 3}` is a subset of `a_set`, and the `issuperset` method is used to check if `a_set` is a superset of `{1, 2, 3}`. Both operations return `True` in this case."
   ]
  },
  {
   "cell_type": "code",
   "execution_count": null,
   "metadata": {},
   "outputs": [],
   "source": [
    "a_set = {1, 2, 3, 4, 5}\n",
    "{1, 2, 3}.issubset(a_set)"
   ]
  },
  {
   "cell_type": "code",
   "execution_count": 55,
   "metadata": {},
   "outputs": [],
   "source": [
    "a_set.issuperset({1, 2, 3})"
   ]
  },
  {
   "cell_type": "markdown",
   "metadata": {},
   "source": [
    "Sets in Python are considered equal if and only if their contents are equal. The order of elements does not affect the equality of sets. Here's an example:\n",
    "\n",
    "```python\n",
    "# Check if {1, 2, 3} is equal to {3, 2, 1}\n",
    "equality_check = {1, 2, 3} == {3, 2, 1}\n",
    "print(equality_check)\n",
    "# Output: True\n",
    "```\n",
    "\n",
    "In this case, the sets `{1, 2, 3}` and `{3, 2, 1}` are considered equal because they contain the same elements, regardless of the order in which the elements are specified."
   ]
  },
  {
   "cell_type": "code",
   "execution_count": 56,
   "metadata": {},
   "outputs": [],
   "source": [
    "{1, 2, 3} == {3, 2, 1}"
   ]
  },
  {
   "cell_type": "markdown",
   "metadata": {},
   "source": [
    "### Built-In Sequence Functions\n",
    "\n",
    "#### enumerate\n",
    "\n",
    "Python provides several useful sequence functions, and one of them is `enumerate`. When iterating over a sequence, it's often necessary to keep track of the index of the current item. While a manual approach involves maintaining an index variable, Python simplifies this task with the `enumerate` function. Here's a comparison:\n",
    "\n",
    "**Manual Approach:**\n",
    "```python\n",
    "index = 0\n",
    "for value in collection:\n",
    "    # do something with value\n",
    "    index += 1\n",
    "```\n",
    "\n",
    "**Using enumerate:**\n",
    "```python\n",
    "for index, value in enumerate(collection):\n",
    "    # do something with value\n",
    "```\n",
    "\n",
    "The `enumerate` function returns a sequence of tuples, where each tuple contains the index (`i`) and the corresponding value from the collection. This provides a more concise and readable way to iterate over a sequence while keeping track of the index."
   ]
  },
  {
   "cell_type": "code",
   "execution_count": null,
   "metadata": {},
   "outputs": [],
   "source": [
    "index = 0\n",
    "for value in collection:\n",
    "    # do something with value\n",
    "    index += 1"
   ]
  },
  {
   "cell_type": "code",
   "execution_count": null,
   "metadata": {},
   "outputs": [],
   "source": [
    "for index, value in enumerate(collection):\n",
    "    # do something with value"
   ]
  },
  {
   "cell_type": "markdown",
   "metadata": {},
   "source": [
    "#### sorted\n",
    "The `sorted` function in Python is a versatile tool for obtaining a new sorted list from the elements of any sequence. Here are a couple of examples:\n",
    "\n",
    "```python\n",
    "# Sorting a list of numbers\n",
    "sorted_list1 = sorted([7, 1, 2, 6, 0, 3, 2])\n",
    "# Output: [0, 1, 2, 2, 3, 6, 7]\n",
    "\n",
    "# Sorting a string\n",
    "sorted_list2 = sorted(\"horse race\")\n",
    "# Output: [' ', 'a', 'c', 'e', 'e', 'h', 'o', 'r', 'r', 's']\n",
    "```\n",
    "\n",
    "The `sorted` function works on various types of sequences, including lists and strings. It returns a new sorted list without modifying the original sequence. It's worth noting that the `sorted` function accepts the same arguments as the `sort` method on lists, making it convenient to use in different scenarios."
   ]
  },
  {
   "cell_type": "code",
   "execution_count": 57,
   "metadata": {},
   "outputs": [],
   "source": [
    "sorted([7, 1, 2, 6, 0, 3, 2])\n"
   ]
  },
  {
   "cell_type": "markdown",
   "metadata": {},
   "source": [
    "sorted(\"horse race\")"
   ]
  },
  {
   "cell_type": "markdown",
   "metadata": {},
   "source": [
    "\n",
    "#### `zip`\n",
    "\n",
    "The `zip` function in Python combines the elements of multiple sequences, such as lists or tuples, to create a list of tuples. Here's an example:\n",
    "\n",
    "```python\n",
    "# Two sequences to zip\n",
    "seq1 = [\"foo\", \"bar\", \"baz\"]\n",
    "seq2 = [\"one\", \"two\", \"three\"]\n",
    "\n",
    "# Using zip to create pairs\n",
    "zipped = zip(seq1, seq2)\n",
    "\n",
    "# Converting the result to a list of tuples\n",
    "result_list = list(zipped)\n",
    "\n",
    "print(result_list)\n",
    "# Output: [('foo', 'one'), ('bar', 'two'), ('baz', 'three')]\n",
    "```\n",
    "\n",
    "In this example, `zip(seq1, seq2)` pairs up the elements from `seq1` and `seq2`, creating a list of tuples where each tuple contains corresponding elements from the two sequences. The `list(zipped)` call is used to display the result as a list of tuples."
   ]
  },
  {
   "cell_type": "code",
   "execution_count": 58,
   "metadata": {},
   "outputs": [],
   "source": [
    "seq1 = [\"foo\", \"bar\", \"baz\"]\n",
    "seq2 = [\"one\", \"two\", \"three\"]\n",
    "zipped = zip(seq1, seq2)\n",
    "list(zipped)"
   ]
  },
  {
   "cell_type": "markdown",
   "metadata": {},
   "source": [
    "The `zip` function in Python can handle an arbitrary number of sequences, and the number of elements it produces is determined by the shortest sequence. Here's an example:\n",
    "\n",
    "```python\n",
    "# Another sequence to zip\n",
    "seq3 = [False, True]\n",
    "\n",
    "# Using zip with three sequences\n",
    "zipped_result = list(zip(seq1, seq2, seq3))\n",
    "\n",
    "print(zipped_result)\n",
    "# Output: [('foo', 'one', False), ('bar', 'two', True)]\n",
    "```\n",
    "\n",
    "In this case, `zip(seq1, seq2, seq3)` pairs up the elements from `seq1`, `seq2`, and `seq3`. Since `seq3` is shorter than the other sequences, only two tuples are produced in the result, each containing corresponding elements from all three sequences. The `list(zipped_result)` call is used to display the result as a list of tuples."
   ]
  },
  {
   "cell_type": "code",
   "execution_count": 59,
   "metadata": {},
   "outputs": [],
   "source": [
    "seq3 = [False, True]\n",
    "list(zip(seq1, seq2, seq3))"
   ]
  },
  {
   "cell_type": "markdown",
   "metadata": {},
   "source": [
    "A common and powerful use of `zip` is to simultaneously iterate over multiple sequences. This is often combined with `enumerate` to also keep track of the index. Here's an example:\n",
    "\n",
    "```python\n",
    "# Two sequences to zip\n",
    "seq1 = [\"foo\", \"bar\", \"baz\"]\n",
    "seq2 = [\"one\", \"two\", \"three\"]\n",
    "\n",
    "# Simultaneously iterating over sequences with zip and enumerate\n",
    "for index, (a, b) in enumerate(zip(seq1, seq2)):\n",
    "    print(f\"{index}: {a}, {b}\")\n",
    "```\n",
    "\n",
    "Output:\n",
    "```\n",
    "0: foo, one\n",
    "1: bar, two\n",
    "2: baz, three\n",
    "```\n",
    "\n",
    "In this example, `enumerate(zip(seq1, seq2))` pairs up elements from `seq1` and `seq2`, and `enumerate` is used to get both the index and the tuple containing elements from both sequences. This allows for a clean and concise way to iterate over multiple sequences simultaneously."
   ]
  },
  {
   "cell_type": "code",
   "execution_count": 60,
   "metadata": {},
   "outputs": [],
   "source": [
    "for index, (a, b) in enumerate(zip(seq1, seq2)):\n",
    "    print(f\"{index}: {a}, {b}\")\n"
   ]
  },
  {
   "cell_type": "markdown",
   "metadata": {},
   "source": [
    "#### `reversed`\n",
    "\n",
    "The `reversed` function in Python is used to iterate over the elements of a sequence in reverse order. Here's an example:\n",
    "\n",
    "```python\n",
    "# Using reversed with a range\n",
    "reversed_result = list(reversed(range(10)))\n",
    "\n",
    "print(reversed_result)\n",
    "# Output: [9, 8, 7, 6, 5, 4, 3, 2, 1, 0]\n",
    "```\n",
    "\n",
    "In this case, `reversed(range(10))` generates the elements of the `range(10)` sequence in reverse order, and the `list()` call is used to materialize them into a list.\n",
    "\n"
   ]
  },
  {
   "cell_type": "code",
   "execution_count": 61,
   "metadata": {},
   "outputs": [],
   "source": [
    "list(reversed(range(10)))"
   ]
  },
  {
   "cell_type": "markdown",
   "metadata": {},
   "source": [
    "It's important to note that `reversed` is a generator, meaning it does not create the reversed sequence until materialized, either by using `list` or within a `for` loop. This can be advantageous for memory efficiency when dealing with large sequences.\n",
    "\n",
    "### List, Set, and Dictionary Comprehensions\n",
    "\n",
    "List comprehensions in Python are a popular and convenient language feature. They provide a concise way to create a new list by filtering elements from an existing collection and applying a transformation to those elements, all in a single expression. The basic syntax is:\n",
    "\n",
    "```python\n",
    "[expr for value in collection if condition]\n",
    "```\n",
    "\n",
    "This is essentially equivalent to the following for loop:\n",
    "\n",
    "```python\n",
    "result = []\n",
    "for value in collection:\n",
    "    if condition:\n",
    "        result.append(expr)\n",
    "```\n",
    "\n",
    "You can omit the filter condition in a list comprehension, leaving only the expression. For instance, if you have a list of strings, you can filter out strings with a length of 2 or less and convert the remaining ones to uppercase, as demonstrated below:\n",
    "\n",
    "```python\n",
    "strings = [\"a\", \"as\", \"bat\", \"car\", \"dove\", \"python\"]\n",
    "[x.upper() for x in strings if len(x) > 2]\n",
    "```\n",
    "\n",
    "The output would be:\n",
    "\n",
    "```python\n",
    "['BAT', 'CAR', 'DOVE', 'PYTHON']\n",
    "```\n",
    "\n",
    "This list comprehension creates a new list containing the uppercase versions of strings with lengths greater than 2 from the original list."
   ]
  },
  {
   "cell_type": "code",
   "execution_count": 62,
   "metadata": {},
   "outputs": [],
   "source": [
    "strings = [\"a\", \"as\", \"bat\", \"car\", \"dove\", \"python\"]\n",
    "[x.upper() for x in strings if len(x) > 2]"
   ]
  },
  {
   "cell_type": "markdown",
   "metadata": {},
   "source": [
    "Set and dictionary comprehensions are extensions of list comprehensions, allowing you to create sets and dictionaries in a similar concise manner.\n",
    "\n",
    "For a dictionary comprehension, the syntax is as follows:\n",
    "\n",
    "```python\n",
    "dict_comp = {key_expr: value_expr for value in collection if condition}\n",
    "```\n",
    "\n",
    "In this expression, `key_expr` and `value_expr` represent the expressions for the key and value, respectively. The comprehension iterates over the elements in the collection, and the key-value pairs are included in the dictionary if they satisfy the specified condition.\n",
    "\n",
    "A set comprehension is akin to a list comprehension, but with curly braces `{}` instead of square brackets `[]`. The syntax is as follows:\n",
    "\n",
    "```python\n",
    "set_comp = {expr for value in collection if condition}\n",
    "```\n",
    "\n",
    "In this expression, `expr` represents the expression to be included in the set for each element in the collection that satisfies the given condition. It results in a set containing the unique values produced by the expression for the qualifying elements.\n",
    "\n",
    "Set comprehensions provide a concise way to create sets by applying an expression to elements from a collection, just as demonstrated in your example. If you have a list of strings, for instance, and you want to obtain a set containing the lengths of those strings, you can achieve this with a set comprehension:\n",
    "\n",
    "```python\n",
    "unique_lengths = {len(x) for x in strings}\n",
    "```\n",
    "\n",
    "In this case, `unique_lengths` will be a set containing the unique lengths of the strings in the original collection. This not only simplifies the code but also enhances readability by expressing the intention more clearly."
   ]
  },
  {
   "cell_type": "code",
   "execution_count": 63,
   "metadata": {},
   "outputs": [],
   "source": [
    "unique_lengths = {len(x) for x in strings}\n",
    "unique_lengths"
   ]
  },
  {
   "cell_type": "markdown",
   "metadata": {},
   "source": [
    "The `map` function provides another way to achieve the same result more functionally. For example:\n",
    "\n",
    "```python\n",
    "set(map(len, strings))\n",
    "```\n",
    "\n",
    "This code uses `map` to apply the `len` function to each element in the `strings` collection, and then the resulting lengths are used to create a set. Both the set comprehension and the `map` function approach accomplish the same task of obtaining a set with unique lengths of strings, providing flexibility in coding styles."
   ]
  },
  {
   "cell_type": "code",
   "execution_count": 64,
   "metadata": {},
   "outputs": [],
   "source": [
    "set(map(len, strings))"
   ]
  },
  {
   "cell_type": "markdown",
   "metadata": {},
   "source": [
    "As an illustration of a straightforward dictionary comprehension, we can generate a mapping that associates each string with its corresponding index in the list. The code for creating this mapping is as follows:\n",
    "\n",
    "```python\n",
    "loc_mapping = {value: index for index, value in enumerate(strings)}\n",
    "```\n",
    "\n",
    "The resulting `loc_mapping` dictionary would look like this:\n",
    "\n",
    "```python\n",
    "{'a': 0, 'as': 1, 'bat': 2, 'car': 3, 'dove': 4, 'python': 5}\n",
    "```\n",
    "\n",
    "This dictionary relates each string in the list to its position (index) within the list."
   ]
  },
  {
   "cell_type": "code",
   "execution_count": 65,
   "metadata": {},
   "outputs": [],
   "source": [
    "loc_mapping = {value: index for index, value in enumerate(strings)}\n",
    "loc_mapping"
   ]
  },
  {
   "cell_type": "markdown",
   "metadata": {},
   "source": [
    "#### Nested list comprehensions\n",
    "\n",
    "Consider a scenario where we have a list of lists containing both English and Spanish names:\n",
    "\n",
    "```python\n",
    "all_data = [[\"John\", \"Emily\", \"Michael\", \"Mary\", \"Steven\"],\n",
    "            [\"Maria\", \"Juan\", \"Javier\", \"Natalia\", \"Pilar\"]]\n",
    "```\n",
    "\n",
    "Now, let's say we want to create a single list that includes all names with two or more occurrences of the letter 'a'. To achieve this, we can use a straightforward for loop:\n",
    "\n",
    "```python\n",
    "names_of_interest = []\n",
    "\n",
    "for names in all_data:\n",
    "    enough_as = [name for name in names if name.count(\"a\") >= 2]\n",
    "    names_of_interest.extend(enough_as)\n",
    "```\n",
    "\n",
    "The resulting `names_of_interest` list will contain names that satisfy the condition of having at least two occurrences of the letter 'a'."
   ]
  },
  {
   "cell_type": "code",
   "execution_count": 67,
   "metadata": {},
   "outputs": [],
   "source": [
    "all_data = [[\"John\", \"Emily\", \"Michael\", \"Mary\", \"Steven\"],\n",
    "            [\"Maria\", \"Juan\", \"Javier\", \"Natalia\", \"Pilar\"]]\n",
    "\n",
    "names_of_interest = []\n",
    "for names in all_data:\n",
    "    enough_as = [name for name in names if name.count(\"a\") >= 2]\n",
    "    names_of_interest.extend(enough_as)\n",
    "names_of_interest"
   ]
  },
  {
   "cell_type": "markdown",
   "metadata": {},
   "source": [
    "The given code can be condensed into a single nested list comprehension:\n",
    "\n",
    "```python\n",
    "result = [name for names in all_data for name in names if name.count(\"a\") >= 2]\n",
    "```\n",
    "\n",
    "This concise expression achieves the same outcome as the previous for loop, producing the list of names with two or more occurrences of the letter 'a'."
   ]
  },
  {
   "cell_type": "code",
   "execution_count": 68,
   "metadata": {},
   "outputs": [],
   "source": [
    "result = [name for names in all_data for name in names\n",
    "          if name.count(\"a\") >= 2]\n",
    "result"
   ]
  },
  {
   "cell_type": "markdown",
   "metadata": {},
   "source": [
    "Initially, comprehending nested list comprehensions may pose a challenge. The 'for' clauses in the list comprehension are structured based on the nesting order, and any filtering condition is placed at the end as usual. To illustrate, consider the following example where we transform a list of tuples of integers into a flat list of integers:\n",
    "\n",
    "```python\n",
    "some_tuples = [(1, 2, 3), (4, 5, 6), (7, 8, 9)]\n",
    "flattened = [x for tup in some_tuples for x in tup]\n",
    "```\n",
    "\n",
    "In this case, the resulting 'flattened' list would be `[1, 2, 3, 4, 5, 6, 7, 8, 9]`. "
   ]
  },
  {
   "cell_type": "code",
   "execution_count": 69,
   "metadata": {},
   "outputs": [],
   "source": [
    "some_tuples = [(1, 2, 3), (4, 5, 6), (7, 8, 9)]\n",
    "flattened = [x for tup in some_tuples for x in tup]\n",
    "flattened"
   ]
  },
  {
   "cell_type": "markdown",
   "metadata": {},
   "source": [
    "It's crucial to note that the order of the 'for' expressions remains the same as if you were to use nested 'for' loops instead of a list comprehension:\n",
    "\n",
    "```python\n",
    "flattened = []\n",
    "for tup in some_tuples:\n",
    "    for x in tup:\n",
    "        flattened.append(x)\n",
    "```"
   ]
  },
  {
   "cell_type": "code",
   "execution_count": 70,
   "metadata": {},
   "outputs": [],
   "source": [
    "flattened = []\n",
    "\n",
    "for tup in some_tuples:\n",
    "    for x in tup:\n",
    "        flattened.append(x)"
   ]
  },
  {
   "cell_type": "markdown",
   "metadata": {},
   "source": [
    "It's possible to have multiple levels of nesting, but if the nesting exceeds two or three levels, it's advisable to evaluate whether it enhances or hinders code readability. It's important to distinguish the demonstrated syntax from a list comprehension within a list comprehension, which is also valid:\n",
    "\n",
    "```python\n",
    "[[x for x in tup] for tup in some_tuples]\n",
    "```\n",
    "\n",
    "This expression results in `[[1, 2, 3], [4, 5, 6], [7, 8, 9]]`."
   ]
  },
  {
   "cell_type": "code",
   "execution_count": 71,
   "metadata": {},
   "outputs": [],
   "source": [
    "[[x for x in tup] for tup in some_tuples]"
   ]
  },
  {
   "cell_type": "markdown",
   "metadata": {},
   "source": [
    "### Functions"
   ]
  },
  {
   "cell_type": "code",
   "execution_count": 72,
   "metadata": {},
   "outputs": [],
   "source": [
    "def my_function(x, y):\n",
    "    return x + y"
   ]
  },
  {
   "cell_type": "code",
   "execution_count": 73,
   "metadata": {},
   "outputs": [],
   "source": [
    "my_function(1, 2)\n",
    "result = my_function(1, 2)\n",
    "result"
   ]
  },
  {
   "cell_type": "code",
   "execution_count": 74,
   "metadata": {},
   "outputs": [],
   "source": [
    "def function_without_return(x):\n",
    "    print(x)\n",
    "\n",
    "result = function_without_return(\"hello!\")\n",
    "print(result)"
   ]
  },
  {
   "cell_type": "code",
   "execution_count": 75,
   "metadata": {},
   "outputs": [],
   "source": [
    "def my_function2(x, y, z=1.5):\n",
    "    if z > 1:\n",
    "        return z * (x + y)\n",
    "    else:\n",
    "        return z / (x + y)"
   ]
  },
  {
   "cell_type": "code",
   "execution_count": 76,
   "metadata": {},
   "outputs": [],
   "source": [
    "my_function2(5, 6, z=0.7)\n",
    "my_function2(3.14, 7, 3.5)\n",
    "my_function2(10, 20)"
   ]
  },
  {
   "cell_type": "code",
   "execution_count": 77,
   "metadata": {},
   "outputs": [],
   "source": [
    "a = []\n",
    "def func():\n",
    "    for i in range(5):\n",
    "        a.append(i)"
   ]
  },
  {
   "cell_type": "code",
   "execution_count": 78,
   "metadata": {},
   "outputs": [],
   "source": [
    "func()\n",
    "a\n",
    "func()\n",
    "a"
   ]
  },
  {
   "cell_type": "code",
   "execution_count": 79,
   "metadata": {},
   "outputs": [],
   "source": [
    "a = None\n",
    "def bind_a_variable():\n",
    "    global a\n",
    "    a = []\n",
    "bind_a_variable()\n",
    "print(a)"
   ]
  },
  {
   "cell_type": "code",
   "execution_count": 80,
   "metadata": {},
   "outputs": [],
   "source": [
    "states = [\"   Alabama \", \"Georgia!\", \"Georgia\", \"georgia\", \"FlOrIda\",\n",
    "          \"south   carolina##\", \"West virginia?\"]"
   ]
  },
  {
   "cell_type": "code",
   "execution_count": 81,
   "metadata": {},
   "outputs": [],
   "source": [
    "import re\n",
    "\n",
    "def clean_strings(strings):\n",
    "    result = []\n",
    "    for value in strings:\n",
    "        value = value.strip()\n",
    "        value = re.sub(\"[!#?]\", \"\", value)\n",
    "        value = value.title()\n",
    "        result.append(value)\n",
    "    return result"
   ]
  },
  {
   "cell_type": "code",
   "execution_count": 82,
   "metadata": {},
   "outputs": [],
   "source": [
    "clean_strings(states)"
   ]
  },
  {
   "cell_type": "code",
   "execution_count": 83,
   "metadata": {},
   "outputs": [],
   "source": [
    "def remove_punctuation(value):\n",
    "    return re.sub(\"[!#?]\", \"\", value)\n",
    "\n",
    "clean_ops = [str.strip, remove_punctuation, str.title]\n",
    "\n",
    "def clean_strings(strings, ops):\n",
    "    result = []\n",
    "    for value in strings:\n",
    "        for func in ops:\n",
    "            value = func(value)\n",
    "        result.append(value)\n",
    "    return result"
   ]
  },
  {
   "cell_type": "code",
   "execution_count": 84,
   "metadata": {},
   "outputs": [],
   "source": [
    "clean_strings(states, clean_ops)"
   ]
  },
  {
   "cell_type": "code",
   "execution_count": 85,
   "metadata": {},
   "outputs": [],
   "source": [
    "for x in map(remove_punctuation, states):\n",
    "    print(x)"
   ]
  },
  {
   "cell_type": "code",
   "execution_count": 86,
   "metadata": {},
   "outputs": [],
   "source": [
    "def short_function(x):\n",
    "    return x * 2\n",
    "\n",
    "equiv_anon = lambda x: x * 2"
   ]
  },
  {
   "cell_type": "code",
   "execution_count": 87,
   "metadata": {},
   "outputs": [],
   "source": [
    "def apply_to_list(some_list, f):\n",
    "    return [f(x) for x in some_list]\n",
    "\n",
    "ints = [4, 0, 1, 5, 6]\n",
    "apply_to_list(ints, lambda x: x * 2)"
   ]
  },
  {
   "cell_type": "code",
   "execution_count": 88,
   "metadata": {},
   "outputs": [],
   "source": [
    "strings = [\"foo\", \"card\", \"bar\", \"aaaa\", \"abab\"]"
   ]
  },
  {
   "cell_type": "code",
   "execution_count": 89,
   "metadata": {},
   "outputs": [],
   "source": [
    "strings.sort(key=lambda x: len(set(x)))\n",
    "strings"
   ]
  },
  {
   "cell_type": "code",
   "execution_count": 90,
   "metadata": {},
   "outputs": [],
   "source": [
    "some_dict = {\"a\": 1, \"b\": 2, \"c\": 3}\n",
    "for key in some_dict:\n",
    "    print(key)"
   ]
  },
  {
   "cell_type": "code",
   "execution_count": 91,
   "metadata": {},
   "outputs": [],
   "source": [
    "dict_iterator = iter(some_dict)\n",
    "dict_iterator"
   ]
  },
  {
   "cell_type": "code",
   "execution_count": 92,
   "metadata": {},
   "outputs": [],
   "source": [
    "list(dict_iterator)"
   ]
  },
  {
   "cell_type": "code",
   "execution_count": 93,
   "metadata": {},
   "outputs": [],
   "source": [
    "def squares(n=10):\n",
    "    print(f\"Generating squares from 1 to {n ** 2}\")\n",
    "    for i in range(1, n + 1):\n",
    "        yield i ** 2"
   ]
  },
  {
   "cell_type": "code",
   "execution_count": 94,
   "metadata": {},
   "outputs": [],
   "source": [
    "gen = squares()\n",
    "gen"
   ]
  },
  {
   "cell_type": "code",
   "execution_count": 95,
   "metadata": {},
   "outputs": [],
   "source": [
    "for x in gen:\n",
    "    print(x, end=\" \")"
   ]
  },
  {
   "cell_type": "code",
   "execution_count": 96,
   "metadata": {},
   "outputs": [],
   "source": [
    "gen = (x ** 2 for x in range(100))\n",
    "gen"
   ]
  },
  {
   "cell_type": "code",
   "execution_count": 97,
   "metadata": {},
   "outputs": [],
   "source": [
    "sum(x ** 2 for x in range(100))\n",
    "dict((i, i ** 2) for i in range(5))"
   ]
  },
  {
   "cell_type": "code",
   "execution_count": 98,
   "metadata": {},
   "outputs": [],
   "source": [
    "import itertools\n",
    "def first_letter(x):\n",
    "    return x[0]\n",
    "\n",
    "names = [\"Alan\", \"Adam\", \"Wes\", \"Will\", \"Albert\", \"Steven\"]\n",
    "\n",
    "for letter, names in itertools.groupby(names, first_letter):\n",
    "    print(letter, list(names)) # names is a generator"
   ]
  },
  {
   "cell_type": "code",
   "execution_count": 99,
   "metadata": {},
   "outputs": [],
   "source": [
    "float(\"1.2345\")\n",
    "float(\"something\")"
   ]
  },
  {
   "cell_type": "code",
   "execution_count": 100,
   "metadata": {},
   "outputs": [],
   "source": [
    "def attempt_float(x):\n",
    "    try:\n",
    "        return float(x)\n",
    "    except:\n",
    "        return x"
   ]
  },
  {
   "cell_type": "code",
   "execution_count": 101,
   "metadata": {},
   "outputs": [],
   "source": [
    "attempt_float(\"1.2345\")\n",
    "attempt_float(\"something\")"
   ]
  },
  {
   "cell_type": "code",
   "execution_count": 102,
   "metadata": {},
   "outputs": [],
   "source": [
    "float((1, 2))"
   ]
  },
  {
   "cell_type": "code",
   "execution_count": 103,
   "metadata": {},
   "outputs": [],
   "source": [
    "def attempt_float(x):\n",
    "    try:\n",
    "        return float(x)\n",
    "    except ValueError:\n",
    "        return x"
   ]
  },
  {
   "cell_type": "code",
   "execution_count": 104,
   "metadata": {},
   "outputs": [],
   "source": [
    "attempt_float((1, 2))"
   ]
  },
  {
   "cell_type": "code",
   "execution_count": 105,
   "metadata": {},
   "outputs": [],
   "source": [
    "def attempt_float(x):\n",
    "    try:\n",
    "        return float(x)\n",
    "    except (TypeError, ValueError):\n",
    "        return x"
   ]
  },
  {
   "cell_type": "code",
   "execution_count": 106,
   "metadata": {},
   "outputs": [],
   "source": [
    "path = \"examples/segismundo.txt\"\n",
    "f = open(path, encoding=\"utf-8\")"
   ]
  },
  {
   "cell_type": "code",
   "execution_count": 107,
   "metadata": {},
   "outputs": [],
   "source": [
    "lines = [x.rstrip() for x in open(path, encoding=\"utf-8\")]\n",
    "lines"
   ]
  },
  {
   "cell_type": "code",
   "execution_count": 108,
   "metadata": {},
   "outputs": [],
   "source": [
    "f.close()"
   ]
  },
  {
   "cell_type": "code",
   "execution_count": 109,
   "metadata": {},
   "outputs": [],
   "source": [
    "with open(path, encoding=\"utf-8\") as f:\n",
    "    lines = [x.rstrip() for x in f]"
   ]
  },
  {
   "cell_type": "code",
   "execution_count": 110,
   "metadata": {},
   "outputs": [],
   "source": [
    "f1 = open(path)\n",
    "f1.read(10)\n",
    "f2 = open(path, mode=\"rb\")  # Binary mode\n",
    "f2.read(10)"
   ]
  },
  {
   "cell_type": "code",
   "execution_count": 111,
   "metadata": {},
   "outputs": [],
   "source": [
    "f1.tell()\n",
    "f2.tell()"
   ]
  },
  {
   "cell_type": "code",
   "execution_count": 112,
   "metadata": {},
   "outputs": [],
   "source": [
    "import sys\n",
    "sys.getdefaultencoding()"
   ]
  },
  {
   "cell_type": "code",
   "execution_count": 113,
   "metadata": {},
   "outputs": [],
   "source": [
    "f1.seek(3)\n",
    "f1.read(1)\n",
    "f1.tell()"
   ]
  },
  {
   "cell_type": "code",
   "execution_count": 114,
   "metadata": {},
   "outputs": [],
   "source": [
    "f1.close()\n",
    "f2.close()"
   ]
  },
  {
   "cell_type": "code",
   "execution_count": 115,
   "metadata": {},
   "outputs": [],
   "source": [
    "path\n",
    "\n",
    "with open(\"tmp.txt\", mode=\"w\") as handle:\n",
    "    handle.writelines(x for x in open(path) if len(x) > 1)\n",
    "\n",
    "with open(\"tmp.txt\") as f:\n",
    "    lines = f.readlines()\n",
    "\n",
    "lines"
   ]
  },
  {
   "cell_type": "code",
   "execution_count": 116,
   "metadata": {},
   "outputs": [],
   "source": [
    "import os\n",
    "os.remove(\"tmp.txt\")"
   ]
  },
  {
   "cell_type": "code",
   "execution_count": 117,
   "metadata": {},
   "outputs": [],
   "source": [
    "with open(path) as f:\n",
    "    chars = f.read(10)\n",
    "\n",
    "chars\n",
    "len(chars)"
   ]
  },
  {
   "cell_type": "code",
   "execution_count": 118,
   "metadata": {},
   "outputs": [],
   "source": [
    "with open(path, mode=\"rb\") as f:\n",
    "    data = f.read(10)\n",
    "\n",
    "data"
   ]
  },
  {
   "cell_type": "code",
   "execution_count": 119,
   "metadata": {},
   "outputs": [],
   "source": [
    "data.decode(\"utf-8\")\n",
    "data[:4].decode(\"utf-8\")"
   ]
  },
  {
   "cell_type": "code",
   "execution_count": 120,
   "metadata": {},
   "outputs": [],
   "source": [
    "sink_path = \"sink.txt\"\n",
    "with open(path) as source:\n",
    "    with open(sink_path, \"x\", encoding=\"iso-8859-1\") as sink:\n",
    "        sink.write(source.read())\n",
    "\n",
    "with open(sink_path, encoding=\"iso-8859-1\") as f:\n",
    "    print(f.read(10))"
   ]
  },
  {
   "cell_type": "code",
   "execution_count": 121,
   "metadata": {},
   "outputs": [],
   "source": [
    "os.remove(sink_path)"
   ]
  },
  {
   "cell_type": "code",
   "execution_count": 122,
   "metadata": {},
   "outputs": [],
   "source": [
    "f = open(path, encoding='utf-8')\n",
    "f.read(5)\n",
    "f.seek(4)\n",
    "f.read(1)\n",
    "f.close()"
   ]
  },
  {
   "cell_type": "code",
   "execution_count": 123,
   "metadata": {},
   "outputs": [],
   "source": []
  }
 ],
 "metadata": {
  "kernelspec": {
   "display_name": "Python 3",
   "language": "python",
   "name": "python3"
  },
  "language_info": {
   "codemirror_mode": {
    "name": "ipython",
    "version": 3
   },
   "file_extension": ".py",
   "mimetype": "text/x-python",
   "name": "python",
   "nbconvert_exporter": "python",
   "pygments_lexer": "ipython3",
   "version": "3.10.13"
  }
 },
 "nbformat": 4,
 "nbformat_minor": 4
}
